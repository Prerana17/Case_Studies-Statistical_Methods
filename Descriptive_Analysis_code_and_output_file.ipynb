{
 "cells": [
  {
   "cell_type": "code",
   "execution_count": 1,
   "id": "df167193",
   "metadata": {
    "vscode": {
     "languageId": "r"
    }
   },
   "outputs": [],
   "source": [
    "############################################################\n",
    "## Title  : 'Descriptive analysis of demographic data'    ##\n",
    "## Author : 'Prerana Rajeev Chandratre'                   ##\n",
    "############################################################"
   ]
  },
  {
   "cell_type": "code",
   "execution_count": 2,
   "id": "ced11244",
   "metadata": {
    "vscode": {
     "languageId": "r"
    }
   },
   "outputs": [
    {
     "name": "stderr",
     "output_type": "stream",
     "text": [
      "Warning message:\n",
      "\"package 'GGally' was built under R version 4.1.3\"\n",
      "Loading required package: ggplot2\n",
      "\n",
      "Warning message:\n",
      "\"package 'ggplot2' was built under R version 4.1.3\"\n",
      "Registered S3 method overwritten by 'GGally':\n",
      "  method from   \n",
      "  +.gg   ggplot2\n",
      "\n",
      "Warning message:\n",
      "\"package 'dplyr' was built under R version 4.1.3\"\n",
      "\n",
      "Attaching package: 'dplyr'\n",
      "\n",
      "\n",
      "The following objects are masked from 'package:stats':\n",
      "\n",
      "    filter, lag\n",
      "\n",
      "\n",
      "The following objects are masked from 'package:base':\n",
      "\n",
      "    intersect, setdiff, setequal, union\n",
      "\n",
      "\n",
      "\n",
      "Attaching package: 'gridExtra'\n",
      "\n",
      "\n",
      "The following object is masked from 'package:dplyr':\n",
      "\n",
      "    combine\n",
      "\n",
      "\n"
     ]
    }
   ],
   "source": [
    "library('GGally')\n",
    "library('dplyr')\n",
    "library('ggplot2')\n",
    "library('gridExtra')"
   ]
  },
  {
   "cell_type": "code",
   "execution_count": 3,
   "id": "01b4ca0b",
   "metadata": {
    "vscode": {
     "languageId": "r"
    }
   },
   "outputs": [],
   "source": [
    "#Loading the data\n",
    "census_data <- read.csv('census2001_2021.csv')"
   ]
  },
  {
   "cell_type": "code",
   "execution_count": 4,
   "id": "b4cbcbff",
   "metadata": {
    "scrolled": false,
    "vscode": {
     "languageId": "r"
    }
   },
   "outputs": [
    {
     "data": {
      "text/html": [
       "<table class=\"dataframe\">\n",
       "<caption>A data.frame: 6 × 8</caption>\n",
       "<thead>\n",
       "\t<tr><th></th><th scope=col>Country.Name</th><th scope=col>Subregion</th><th scope=col>Region</th><th scope=col>Year</th><th scope=col>Life.Expectancy..Both.Sexes</th><th scope=col>Life.Expectancy..Males</th><th scope=col>Life.Expectancy..Females</th><th scope=col>Infant.Mortality.Rate..Both.Sexes</th></tr>\n",
       "\t<tr><th></th><th scope=col>&lt;chr&gt;</th><th scope=col>&lt;chr&gt;</th><th scope=col>&lt;chr&gt;</th><th scope=col>&lt;int&gt;</th><th scope=col>&lt;dbl&gt;</th><th scope=col>&lt;dbl&gt;</th><th scope=col>&lt;dbl&gt;</th><th scope=col>&lt;dbl&gt;</th></tr>\n",
       "</thead>\n",
       "<tbody>\n",
       "\t<tr><th scope=row>1</th><td>Afghanistan</td><td>South-Central Asia</td><td>Asia  </td><td>2001</td><td>45.81</td><td>44.85</td><td>46.83</td><td>144.77</td></tr>\n",
       "\t<tr><th scope=row>2</th><td>Afghanistan</td><td>South-Central Asia</td><td>Asia  </td><td>2021</td><td>53.25</td><td>51.73</td><td>54.85</td><td>106.75</td></tr>\n",
       "\t<tr><th scope=row>3</th><td>Albania    </td><td>Southern Europe   </td><td>Europe</td><td>2001</td><td>75.14</td><td>72.39</td><td>78.20</td><td> 23.88</td></tr>\n",
       "\t<tr><th scope=row>4</th><td>Albania    </td><td>Southern Europe   </td><td>Europe</td><td>2021</td><td>79.23</td><td>76.55</td><td>82.12</td><td> 11.10</td></tr>\n",
       "\t<tr><th scope=row>5</th><td>Algeria    </td><td>Northern Africa   </td><td>Africa</td><td>2001</td><td>72.19</td><td>71.36</td><td>73.07</td><td> 39.97</td></tr>\n",
       "\t<tr><th scope=row>6</th><td>Algeria    </td><td>Northern Africa   </td><td>Africa</td><td>2021</td><td>77.79</td><td>76.32</td><td>79.33</td><td> 20.23</td></tr>\n",
       "</tbody>\n",
       "</table>\n"
      ],
      "text/latex": [
       "A data.frame: 6 × 8\n",
       "\\begin{tabular}{r|llllllll}\n",
       "  & Country.Name & Subregion & Region & Year & Life.Expectancy..Both.Sexes & Life.Expectancy..Males & Life.Expectancy..Females & Infant.Mortality.Rate..Both.Sexes\\\\\n",
       "  & <chr> & <chr> & <chr> & <int> & <dbl> & <dbl> & <dbl> & <dbl>\\\\\n",
       "\\hline\n",
       "\t1 & Afghanistan & South-Central Asia & Asia   & 2001 & 45.81 & 44.85 & 46.83 & 144.77\\\\\n",
       "\t2 & Afghanistan & South-Central Asia & Asia   & 2021 & 53.25 & 51.73 & 54.85 & 106.75\\\\\n",
       "\t3 & Albania     & Southern Europe    & Europe & 2001 & 75.14 & 72.39 & 78.20 &  23.88\\\\\n",
       "\t4 & Albania     & Southern Europe    & Europe & 2021 & 79.23 & 76.55 & 82.12 &  11.10\\\\\n",
       "\t5 & Algeria     & Northern Africa    & Africa & 2001 & 72.19 & 71.36 & 73.07 &  39.97\\\\\n",
       "\t6 & Algeria     & Northern Africa    & Africa & 2021 & 77.79 & 76.32 & 79.33 &  20.23\\\\\n",
       "\\end{tabular}\n"
      ],
      "text/markdown": [
       "\n",
       "A data.frame: 6 × 8\n",
       "\n",
       "| <!--/--> | Country.Name &lt;chr&gt; | Subregion &lt;chr&gt; | Region &lt;chr&gt; | Year &lt;int&gt; | Life.Expectancy..Both.Sexes &lt;dbl&gt; | Life.Expectancy..Males &lt;dbl&gt; | Life.Expectancy..Females &lt;dbl&gt; | Infant.Mortality.Rate..Both.Sexes &lt;dbl&gt; |\n",
       "|---|---|---|---|---|---|---|---|---|\n",
       "| 1 | Afghanistan | South-Central Asia | Asia   | 2001 | 45.81 | 44.85 | 46.83 | 144.77 |\n",
       "| 2 | Afghanistan | South-Central Asia | Asia   | 2021 | 53.25 | 51.73 | 54.85 | 106.75 |\n",
       "| 3 | Albania     | Southern Europe    | Europe | 2001 | 75.14 | 72.39 | 78.20 |  23.88 |\n",
       "| 4 | Albania     | Southern Europe    | Europe | 2021 | 79.23 | 76.55 | 82.12 |  11.10 |\n",
       "| 5 | Algeria     | Northern Africa    | Africa | 2001 | 72.19 | 71.36 | 73.07 |  39.97 |\n",
       "| 6 | Algeria     | Northern Africa    | Africa | 2021 | 77.79 | 76.32 | 79.33 |  20.23 |\n",
       "\n"
      ],
      "text/plain": [
       "  Country.Name Subregion          Region Year Life.Expectancy..Both.Sexes\n",
       "1 Afghanistan  South-Central Asia Asia   2001 45.81                      \n",
       "2 Afghanistan  South-Central Asia Asia   2021 53.25                      \n",
       "3 Albania      Southern Europe    Europe 2001 75.14                      \n",
       "4 Albania      Southern Europe    Europe 2021 79.23                      \n",
       "5 Algeria      Northern Africa    Africa 2001 72.19                      \n",
       "6 Algeria      Northern Africa    Africa 2021 77.79                      \n",
       "  Life.Expectancy..Males Life.Expectancy..Females\n",
       "1 44.85                  46.83                   \n",
       "2 51.73                  54.85                   \n",
       "3 72.39                  78.20                   \n",
       "4 76.55                  82.12                   \n",
       "5 71.36                  73.07                   \n",
       "6 76.32                  79.33                   \n",
       "  Infant.Mortality.Rate..Both.Sexes\n",
       "1 144.77                           \n",
       "2 106.75                           \n",
       "3  23.88                           \n",
       "4  11.10                           \n",
       "5  39.97                           \n",
       "6  20.23                           "
      ]
     },
     "metadata": {},
     "output_type": "display_data"
    }
   ],
   "source": [
    "#View the Data\n",
    "head(census_data)"
   ]
  },
  {
   "cell_type": "code",
   "execution_count": 5,
   "id": "6d5eb4c6",
   "metadata": {
    "vscode": {
     "languageId": "r"
    }
   },
   "outputs": [],
   "source": [
    "#Changing Column Names for better readability\n",
    "colnames(census_data) <- c(\"Country\",\"Subregion\",\"Region\",\"Year\",\"Life_exp_both\",\"Life_exp_male\",\"Life_exp_female\",\"Mortality_rate\")"
   ]
  },
  {
   "cell_type": "code",
   "execution_count": 6,
   "id": "ba2e1c55",
   "metadata": {
    "vscode": {
     "languageId": "r"
    }
   },
   "outputs": [],
   "source": [
    "#Ordering the Data according Region and Subregion\n",
    "census_data <- census_data[order(census_data$Region,census_data$Subregion),]"
   ]
  },
  {
   "cell_type": "code",
   "execution_count": 7,
   "id": "f5d69fb5",
   "metadata": {
    "vscode": {
     "languageId": "r"
    }
   },
   "outputs": [],
   "source": [
    "#Factoring with the Sub regions\n",
    "census_data$Subregion <- factor(census_data$Subregion, levels = unique(census_data$Subregion[order(census_data$Region)]))"
   ]
  },
  {
   "cell_type": "code",
   "execution_count": 8,
   "id": "ac80d884",
   "metadata": {
    "scrolled": true,
    "vscode": {
     "languageId": "r"
    }
   },
   "outputs": [
    {
     "data": {
      "text/html": [
       "<table class=\"dataframe\">\n",
       "<caption>A data.frame: 6 × 8</caption>\n",
       "<thead>\n",
       "\t<tr><th></th><th scope=col>Country</th><th scope=col>Subregion</th><th scope=col>Region</th><th scope=col>Year</th><th scope=col>Life_exp_both</th><th scope=col>Life_exp_male</th><th scope=col>Life_exp_female</th><th scope=col>Mortality_rate</th></tr>\n",
       "\t<tr><th></th><th scope=col>&lt;chr&gt;</th><th scope=col>&lt;fct&gt;</th><th scope=col>&lt;chr&gt;</th><th scope=col>&lt;int&gt;</th><th scope=col>&lt;dbl&gt;</th><th scope=col>&lt;dbl&gt;</th><th scope=col>&lt;dbl&gt;</th><th scope=col>&lt;dbl&gt;</th></tr>\n",
       "</thead>\n",
       "<tbody>\n",
       "\t<tr><th scope=row>65</th><td>Burundi </td><td>Eastern Africa</td><td>Africa</td><td>2001</td><td>55.06</td><td>53.02</td><td>57.16</td><td>83.17</td></tr>\n",
       "\t<tr><th scope=row>66</th><td>Burundi </td><td>Eastern Africa</td><td>Africa</td><td>2021</td><td>67.07</td><td>64.98</td><td>69.22</td><td>38.96</td></tr>\n",
       "\t<tr><th scope=row>87</th><td>Comoros </td><td>Eastern Africa</td><td>Africa</td><td>2001</td><td>60.17</td><td>58.58</td><td>61.81</td><td>85.45</td></tr>\n",
       "\t<tr><th scope=row>88</th><td>Comoros </td><td>Eastern Africa</td><td>Africa</td><td>2021</td><td>66.90</td><td>64.65</td><td>69.21</td><td>58.21</td></tr>\n",
       "\t<tr><th scope=row>111</th><td>Djibouti</td><td>Eastern Africa</td><td>Africa</td><td>2001</td><td>58.21</td><td>55.97</td><td>60.50</td><td>69.88</td></tr>\n",
       "\t<tr><th scope=row>112</th><td>Djibouti</td><td>Eastern Africa</td><td>Africa</td><td>2021</td><td>65.00</td><td>62.40</td><td>67.67</td><td>47.78</td></tr>\n",
       "</tbody>\n",
       "</table>\n"
      ],
      "text/latex": [
       "A data.frame: 6 × 8\n",
       "\\begin{tabular}{r|llllllll}\n",
       "  & Country & Subregion & Region & Year & Life\\_exp\\_both & Life\\_exp\\_male & Life\\_exp\\_female & Mortality\\_rate\\\\\n",
       "  & <chr> & <fct> & <chr> & <int> & <dbl> & <dbl> & <dbl> & <dbl>\\\\\n",
       "\\hline\n",
       "\t65 & Burundi  & Eastern Africa & Africa & 2001 & 55.06 & 53.02 & 57.16 & 83.17\\\\\n",
       "\t66 & Burundi  & Eastern Africa & Africa & 2021 & 67.07 & 64.98 & 69.22 & 38.96\\\\\n",
       "\t87 & Comoros  & Eastern Africa & Africa & 2001 & 60.17 & 58.58 & 61.81 & 85.45\\\\\n",
       "\t88 & Comoros  & Eastern Africa & Africa & 2021 & 66.90 & 64.65 & 69.21 & 58.21\\\\\n",
       "\t111 & Djibouti & Eastern Africa & Africa & 2001 & 58.21 & 55.97 & 60.50 & 69.88\\\\\n",
       "\t112 & Djibouti & Eastern Africa & Africa & 2021 & 65.00 & 62.40 & 67.67 & 47.78\\\\\n",
       "\\end{tabular}\n"
      ],
      "text/markdown": [
       "\n",
       "A data.frame: 6 × 8\n",
       "\n",
       "| <!--/--> | Country &lt;chr&gt; | Subregion &lt;fct&gt; | Region &lt;chr&gt; | Year &lt;int&gt; | Life_exp_both &lt;dbl&gt; | Life_exp_male &lt;dbl&gt; | Life_exp_female &lt;dbl&gt; | Mortality_rate &lt;dbl&gt; |\n",
       "|---|---|---|---|---|---|---|---|---|\n",
       "| 65 | Burundi  | Eastern Africa | Africa | 2001 | 55.06 | 53.02 | 57.16 | 83.17 |\n",
       "| 66 | Burundi  | Eastern Africa | Africa | 2021 | 67.07 | 64.98 | 69.22 | 38.96 |\n",
       "| 87 | Comoros  | Eastern Africa | Africa | 2001 | 60.17 | 58.58 | 61.81 | 85.45 |\n",
       "| 88 | Comoros  | Eastern Africa | Africa | 2021 | 66.90 | 64.65 | 69.21 | 58.21 |\n",
       "| 111 | Djibouti | Eastern Africa | Africa | 2001 | 58.21 | 55.97 | 60.50 | 69.88 |\n",
       "| 112 | Djibouti | Eastern Africa | Africa | 2021 | 65.00 | 62.40 | 67.67 | 47.78 |\n",
       "\n"
      ],
      "text/plain": [
       "    Country  Subregion      Region Year Life_exp_both Life_exp_male\n",
       "65  Burundi  Eastern Africa Africa 2001 55.06         53.02        \n",
       "66  Burundi  Eastern Africa Africa 2021 67.07         64.98        \n",
       "87  Comoros  Eastern Africa Africa 2001 60.17         58.58        \n",
       "88  Comoros  Eastern Africa Africa 2021 66.90         64.65        \n",
       "111 Djibouti Eastern Africa Africa 2001 58.21         55.97        \n",
       "112 Djibouti Eastern Africa Africa 2021 65.00         62.40        \n",
       "    Life_exp_female Mortality_rate\n",
       "65  57.16           83.17         \n",
       "66  69.22           38.96         \n",
       "87  61.81           85.45         \n",
       "88  69.21           58.21         \n",
       "111 60.50           69.88         \n",
       "112 67.67           47.78         "
      ]
     },
     "metadata": {},
     "output_type": "display_data"
    }
   ],
   "source": [
    "head(census_data)"
   ]
  },
  {
   "cell_type": "code",
   "execution_count": 9,
   "id": "6c2a2cad",
   "metadata": {
    "vscode": {
     "languageId": "r"
    }
   },
   "outputs": [
    {
     "data": {
      "text/html": [
       "<style>\n",
       ".dl-inline {width: auto; margin:0; padding: 0}\n",
       ".dl-inline>dt, .dl-inline>dd {float: none; width: auto; display: inline-block}\n",
       ".dl-inline>dt::after {content: \":\\0020\"; padding-right: .5ex}\n",
       ".dl-inline>dt:not(:first-of-type) {padding-left: .5ex}\n",
       "</style><dl class=dl-inline><dt>Country</dt><dd>0</dd><dt>Subregion</dt><dd>0</dd><dt>Region</dt><dd>0</dd><dt>Year</dt><dd>0</dd><dt>Life_exp_both</dt><dd>6</dd><dt>Life_exp_male</dt><dd>6</dd><dt>Life_exp_female</dt><dd>6</dd><dt>Mortality_rate</dt><dd>6</dd></dl>\n"
      ],
      "text/latex": [
       "\\begin{description*}\n",
       "\\item[Country] 0\n",
       "\\item[Subregion] 0\n",
       "\\item[Region] 0\n",
       "\\item[Year] 0\n",
       "\\item[Life\\textbackslash{}\\_exp\\textbackslash{}\\_both] 6\n",
       "\\item[Life\\textbackslash{}\\_exp\\textbackslash{}\\_male] 6\n",
       "\\item[Life\\textbackslash{}\\_exp\\textbackslash{}\\_female] 6\n",
       "\\item[Mortality\\textbackslash{}\\_rate] 6\n",
       "\\end{description*}\n"
      ],
      "text/markdown": [
       "Country\n",
       ":   0Subregion\n",
       ":   0Region\n",
       ":   0Year\n",
       ":   0Life_exp_both\n",
       ":   6Life_exp_male\n",
       ":   6Life_exp_female\n",
       ":   6Mortality_rate\n",
       ":   6\n",
       "\n"
      ],
      "text/plain": [
       "        Country       Subregion          Region            Year   Life_exp_both \n",
       "              0               0               0               0               6 \n",
       "  Life_exp_male Life_exp_female  Mortality_rate \n",
       "              6               6               6 "
      ]
     },
     "metadata": {},
     "output_type": "display_data"
    }
   ],
   "source": [
    "#Check is there any missing values in Data\n",
    "colSums(is.na(census_data))"
   ]
  },
  {
   "cell_type": "code",
   "execution_count": 10,
   "id": "a9cd9269",
   "metadata": {
    "vscode": {
     "languageId": "r"
    }
   },
   "outputs": [
    {
     "data": {
      "text/html": [
       "<table class=\"dataframe\">\n",
       "<caption>A data.frame: 6 × 8</caption>\n",
       "<thead>\n",
       "\t<tr><th></th><th scope=col>Country</th><th scope=col>Subregion</th><th scope=col>Region</th><th scope=col>Year</th><th scope=col>Life_exp_both</th><th scope=col>Life_exp_male</th><th scope=col>Life_exp_female</th><th scope=col>Mortality_rate</th></tr>\n",
       "\t<tr><th></th><th scope=col>&lt;chr&gt;</th><th scope=col>&lt;fct&gt;</th><th scope=col>&lt;chr&gt;</th><th scope=col>&lt;int&gt;</th><th scope=col>&lt;dbl&gt;</th><th scope=col>&lt;dbl&gt;</th><th scope=col>&lt;dbl&gt;</th><th scope=col>&lt;dbl&gt;</th></tr>\n",
       "</thead>\n",
       "<tbody>\n",
       "\t<tr><th scope=row>235</th><td>Libya        </td><td>Northern Africa </td><td>Africa  </td><td>2001</td><td>NA</td><td>NA</td><td>NA</td><td>NA</td></tr>\n",
       "\t<tr><th scope=row>379</th><td>South Sudan  </td><td>Northern Africa </td><td>Africa  </td><td>2001</td><td>NA</td><td>NA</td><td>NA</td><td>NA</td></tr>\n",
       "\t<tr><th scope=row>385</th><td>Sudan        </td><td>Northern Africa </td><td>Africa  </td><td>2001</td><td>NA</td><td>NA</td><td>NA</td><td>NA</td></tr>\n",
       "\t<tr><th scope=row>325</th><td>Puerto Rico  </td><td>Caribbean       </td><td>Americas</td><td>2001</td><td>NA</td><td>NA</td><td>NA</td><td>NA</td></tr>\n",
       "\t<tr><th scope=row>429</th><td>United States</td><td>Northern America</td><td>Americas</td><td>2001</td><td>NA</td><td>NA</td><td>NA</td><td>NA</td></tr>\n",
       "\t<tr><th scope=row>393</th><td>Syria        </td><td>Western Asia    </td><td>Asia    </td><td>2001</td><td>NA</td><td>NA</td><td>NA</td><td>NA</td></tr>\n",
       "</tbody>\n",
       "</table>\n"
      ],
      "text/latex": [
       "A data.frame: 6 × 8\n",
       "\\begin{tabular}{r|llllllll}\n",
       "  & Country & Subregion & Region & Year & Life\\_exp\\_both & Life\\_exp\\_male & Life\\_exp\\_female & Mortality\\_rate\\\\\n",
       "  & <chr> & <fct> & <chr> & <int> & <dbl> & <dbl> & <dbl> & <dbl>\\\\\n",
       "\\hline\n",
       "\t235 & Libya         & Northern Africa  & Africa   & 2001 & NA & NA & NA & NA\\\\\n",
       "\t379 & South Sudan   & Northern Africa  & Africa   & 2001 & NA & NA & NA & NA\\\\\n",
       "\t385 & Sudan         & Northern Africa  & Africa   & 2001 & NA & NA & NA & NA\\\\\n",
       "\t325 & Puerto Rico   & Caribbean        & Americas & 2001 & NA & NA & NA & NA\\\\\n",
       "\t429 & United States & Northern America & Americas & 2001 & NA & NA & NA & NA\\\\\n",
       "\t393 & Syria         & Western Asia     & Asia     & 2001 & NA & NA & NA & NA\\\\\n",
       "\\end{tabular}\n"
      ],
      "text/markdown": [
       "\n",
       "A data.frame: 6 × 8\n",
       "\n",
       "| <!--/--> | Country &lt;chr&gt; | Subregion &lt;fct&gt; | Region &lt;chr&gt; | Year &lt;int&gt; | Life_exp_both &lt;dbl&gt; | Life_exp_male &lt;dbl&gt; | Life_exp_female &lt;dbl&gt; | Mortality_rate &lt;dbl&gt; |\n",
       "|---|---|---|---|---|---|---|---|---|\n",
       "| 235 | Libya         | Northern Africa  | Africa   | 2001 | NA | NA | NA | NA |\n",
       "| 379 | South Sudan   | Northern Africa  | Africa   | 2001 | NA | NA | NA | NA |\n",
       "| 385 | Sudan         | Northern Africa  | Africa   | 2001 | NA | NA | NA | NA |\n",
       "| 325 | Puerto Rico   | Caribbean        | Americas | 2001 | NA | NA | NA | NA |\n",
       "| 429 | United States | Northern America | Americas | 2001 | NA | NA | NA | NA |\n",
       "| 393 | Syria         | Western Asia     | Asia     | 2001 | NA | NA | NA | NA |\n",
       "\n"
      ],
      "text/plain": [
       "    Country       Subregion        Region   Year Life_exp_both Life_exp_male\n",
       "235 Libya         Northern Africa  Africa   2001 NA            NA           \n",
       "379 South Sudan   Northern Africa  Africa   2001 NA            NA           \n",
       "385 Sudan         Northern Africa  Africa   2001 NA            NA           \n",
       "325 Puerto Rico   Caribbean        Americas 2001 NA            NA           \n",
       "429 United States Northern America Americas 2001 NA            NA           \n",
       "393 Syria         Western Asia     Asia     2001 NA            NA           \n",
       "    Life_exp_female Mortality_rate\n",
       "235 NA              NA            \n",
       "379 NA              NA            \n",
       "385 NA              NA            \n",
       "325 NA              NA            \n",
       "429 NA              NA            \n",
       "393 NA              NA            "
      ]
     },
     "metadata": {},
     "output_type": "display_data"
    }
   ],
   "source": [
    "#Check the missing value records #Mortality rate\n",
    "census_data[which(is.na(census_data$Mortality_rate)),]"
   ]
  },
  {
   "cell_type": "code",
   "execution_count": 11,
   "id": "985aa66e",
   "metadata": {
    "vscode": {
     "languageId": "r"
    }
   },
   "outputs": [],
   "source": [
    "#Split the Data Based on the year\n",
    "census_data_2021 <- census_data %>% filter(Year == 2021)\n",
    "census_data_2001 <- census_data %>% filter(Year == 2001)"
   ]
  },
  {
   "cell_type": "code",
   "execution_count": 12,
   "id": "b1941c04",
   "metadata": {
    "vscode": {
     "languageId": "r"
    }
   },
   "outputs": [
    {
     "data": {
      "text/plain": [
       "   Country                       Subregion      Region               Year     \n",
       " Length:227         Caribbean         : 25   Length:227         Min.   :2021  \n",
       " Class :character   Western Asia      : 19   Class :character   1st Qu.:2021  \n",
       " Mode  :character   Eastern Africa    : 17   Mode  :character   Median :2021  \n",
       "                    Western Africa    : 17                      Mean   :2021  \n",
       "                    Southern Europe   : 16                      3rd Qu.:2021  \n",
       "                    South-Central Asia: 14                      Max.   :2021  \n",
       "                    (Other)           :119                                    \n",
       " Life_exp_both   Life_exp_male   Life_exp_female Mortality_rate  \n",
       " Min.   :53.25   Min.   :51.73   Min.   :54.85   Min.   :  1.53  \n",
       " 1st Qu.:69.73   1st Qu.:67.58   1st Qu.:72.29   1st Qu.:  6.27  \n",
       " Median :75.56   Median :72.99   Median :78.36   Median : 12.58  \n",
       " Mean   :74.28   Mean   :71.78   Mean   :76.89   Mean   : 20.25  \n",
       " 3rd Qu.:79.42   3rd Qu.:76.94   3rd Qu.:82.34   3rd Qu.: 29.48  \n",
       " Max.   :89.40   Max.   :85.55   Max.   :93.40   Max.   :106.75  \n",
       "                                                                 "
      ]
     },
     "metadata": {},
     "output_type": "display_data"
    }
   ],
   "source": [
    "#Summary of data\n",
    "census_data_2021   %>% summary()"
   ]
  },
  {
   "cell_type": "code",
   "execution_count": 13,
   "id": "9f0ed553",
   "metadata": {
    "vscode": {
     "languageId": "r"
    }
   },
   "outputs": [],
   "source": [
    "#Get the difference between the Life expectancy of female and male\n",
    "census_data_2001$Life_exp_diff_btw_sexes <- census_data_2001$Life_exp_female - census_data_2001$Life_exp_male\n",
    "census_data_2021$Life_exp_diff_btw_sexes <- census_data_2021$Life_exp_female - census_data_2021$Life_exp_male"
   ]
  },
  {
   "cell_type": "markdown",
   "id": "562abac4",
   "metadata": {},
   "source": [
    "### Frequency Distributions of Different Variables"
   ]
  },
  {
   "cell_type": "code",
   "execution_count": 14,
   "id": "c6049382",
   "metadata": {
    "vscode": {
     "languageId": "r"
    }
   },
   "outputs": [],
   "source": [
    "#######TASK1######"
   ]
  },
  {
   "cell_type": "code",
   "execution_count": 15,
   "id": "e73247b8",
   "metadata": {
    "scrolled": false,
    "vscode": {
     "languageId": "r"
    }
   },
   "outputs": [
    {
     "name": "stderr",
     "output_type": "stream",
     "text": [
      "`stat_bin()` using `bins = 30`. Pick better value with `binwidth`.\n",
      "\n",
      "`stat_bin()` using `bins = 30`. Pick better value with `binwidth`.\n",
      "\n",
      "`stat_bin()` using `bins = 30`. Pick better value with `binwidth`.\n",
      "\n",
      "`stat_bin()` using `bins = 30`. Pick better value with `binwidth`.\n",
      "\n",
      "Saving 6.67 x 6.67 in image\n",
      "\n"
     ]
    },
    {
     "data": {
      "text/plain": [
       "TableGrob (2 x 2) \"arrange\": 4 grobs\n",
       "  z     cells    name           grob\n",
       "1 1 (1-1,1-1) arrange gtable[layout]\n",
       "2 2 (1-1,2-2) arrange gtable[layout]\n",
       "3 3 (2-2,1-1) arrange gtable[layout]\n",
       "4 4 (2-2,2-2) arrange gtable[layout]"
      ]
     },
     "metadata": {},
     "output_type": "display_data"
    },
    {
     "data": {
      "image/png": "[encoded data removed]",
      "text/plain": [
       "plot without title"
      ]
     },
     "metadata": {
      "image/png": {
       "height": 420,
       "width": 420
      }
     },
     "output_type": "display_data"
    }
   ],
   "source": [
    "plot1  <- ggplot(census_data_2021, aes(x = Life_exp_female)) +\n",
    "          geom_histogram(aes(fill = ..count..), col = \"black\")+\n",
    "          scale_x_continuous(name = \"Life expectancy of female in years \") +\n",
    "          scale_y_continuous(name = \"Count\") +\n",
    "          ggtitle(\"a) Frequency of life expectancy of female\") +\n",
    "          theme(plot.title = element_text(hjust = 0.5, size = 10, face=\"bold\"), \n",
    "            axis.text=element_text(size=9),\n",
    "             axis.title=element_text(size=11))\n",
    "\n",
    "plot2  <- ggplot(census_data_2021, aes(x = Life_exp_male)) +\n",
    "           geom_histogram(aes(fill = ..count..), col = \"black\")+\n",
    "           scale_x_continuous(name = \"Life expectancy of male in years \") +\n",
    "           scale_y_continuous(name = \"Count\") +\n",
    "           ggtitle(\"b) Frequency of life expectancy of male\") +\n",
    "           theme(plot.title = element_text(hjust = 0.5, size = 10, face=\"bold\"), \n",
    "             axis.text=element_text(size=9),\n",
    "             axis.title=element_text(size=11))\n",
    "\n",
    "plot3  <- ggplot(census_data_2021, aes(x = Life_exp_diff_btw_sexes)) +\n",
    "           geom_histogram(aes(fill = ..count..), col = \"black\")+\n",
    "           scale_x_continuous(name = \"Life expectancy difference between sexes\") +\n",
    "           scale_y_continuous(name = \"Count\") +\n",
    "           ggtitle(\"c) Frequency of life expectancy difference\") +\n",
    "           theme(plot.title = element_text(hjust = 0.5, size = 10, face=\"bold\"), \n",
    "             axis.text=element_text(size=9),\n",
    "             axis.title=element_text(size=11))\n",
    "\n",
    "plot4  <- ggplot(census_data_2021, aes(x = Mortality_rate)) +\n",
    "           geom_histogram(aes(fill = ..count..), col = \"black\")+\n",
    "           scale_x_continuous(name = \"Infant mortality rate\") +\n",
    "           scale_y_continuous(name = \"Count\") +\n",
    "           ggtitle(\"d) Frequency of infant mortality rate\") +\n",
    "           theme(plot.title = element_text(hjust = 0.5, size = 10, face=\"bold\"), \n",
    "             axis.text=element_text(size=9),\n",
    "             axis.title=element_text(size=11))\n",
    "\n",
    "final_plot1 <- grid.arrange(plot1, plot2, plot3, plot4, ncol=2, nrow = 2)\n",
    "ggsave(\"histograms.pdf\",plot = final_plot1)\n",
    "final_plot1"
   ]
  },
  {
   "cell_type": "code",
   "execution_count": 16,
   "id": "ddb49470",
   "metadata": {
    "vscode": {
     "languageId": "r"
    }
   },
   "outputs": [],
   "source": [
    "#######TASK2######"
   ]
  },
  {
   "cell_type": "code",
   "execution_count": 17,
   "id": "6c1a0f5a",
   "metadata": {
    "vscode": {
     "languageId": "r"
    }
   },
   "outputs": [
    {
     "name": "stderr",
     "output_type": "stream",
     "text": [
      "Saving 6.67 x 6.67 in image\n",
      "\n",
      "`stat_bin()` using `bins = 30`. Pick better value with `binwidth`.\n",
      "\n",
      "`stat_bin()` using `bins = 30`. Pick better value with `binwidth`.\n",
      "\n",
      "`stat_bin()` using `bins = 30`. Pick better value with `binwidth`.\n",
      "\n",
      "`stat_bin()` using `bins = 30`. Pick better value with `binwidth`.\n",
      "\n",
      "`stat_bin()` using `bins = 30`. Pick better value with `binwidth`.\n",
      "\n",
      "`stat_bin()` using `bins = 30`. Pick better value with `binwidth`.\n",
      "\n",
      "`stat_bin()` using `bins = 30`. Pick better value with `binwidth`.\n",
      "\n",
      "`stat_bin()` using `bins = 30`. Pick better value with `binwidth`.\n",
      "\n"
     ]
    },
    {
     "data": {
      "image/png": "[encoded data removed]",
      "text/plain": [
       "plot without title"
      ]
     },
     "metadata": {
      "image/png": {
       "height": 420,
       "width": 420
      }
     },
     "output_type": "display_data"
    }
   ],
   "source": [
    "#Pairplot\n",
    "scat_plot  <- ggpairs(census_data_2021, columns = 5:8, \n",
    "                     upper = list(continuous = GGally::wrap(ggally_cor, stars = F)),\n",
    "                     diag = list(continuous = wrap(\"barDiag\", alpha = 0.8, color=\"grey\")), \n",
    "                     lower = list(continuous = wrap(\"points\", alpha = 0.8,size=0.4), \n",
    "                     combo = wrap(\"dot\", alpha = 0.8,size=0.2) ),\n",
    "                     mapping=ggplot2::aes(colour = Region)) + \n",
    "                     theme(axis.text=element_text(size=9),\n",
    "                     axis.title=element_text(size=11)) \n",
    "ggsave(\"corr_plot.pdf\",plot = scat_plot)\n",
    "scat_plot"
   ]
  },
  {
   "cell_type": "code",
   "execution_count": 18,
   "id": "d8dfafb0",
   "metadata": {
    "vscode": {
     "languageId": "r"
    }
   },
   "outputs": [],
   "source": [
    "#####TASK 3#######"
   ]
  },
  {
   "cell_type": "code",
   "execution_count": 19,
   "id": "ac369d66",
   "metadata": {
    "vscode": {
     "languageId": "r"
    }
   },
   "outputs": [
    {
     "data": {
      "text/html": [
       "<table class=\"dataframe\">\n",
       "<caption>A tibble: 5 × 6</caption>\n",
       "<thead>\n",
       "\t<tr><th scope=col>Region</th><th scope=col>min</th><th scope=col>q1</th><th scope=col>median</th><th scope=col>q3</th><th scope=col>max</th></tr>\n",
       "\t<tr><th scope=col>&lt;chr&gt;</th><th scope=col>&lt;dbl&gt;</th><th scope=col>&lt;dbl&gt;</th><th scope=col>&lt;dbl&gt;</th><th scope=col>&lt;dbl&gt;</th><th scope=col>&lt;dbl&gt;</th></tr>\n",
       "</thead>\n",
       "<tbody>\n",
       "\t<tr><td>Africa  </td><td>55.07</td><td>61.8100</td><td>65.480</td><td>69.3450</td><td>80.25</td></tr>\n",
       "\t<tr><td>Americas</td><td>65.61</td><td>74.9525</td><td>77.655</td><td>79.4325</td><td>83.62</td></tr>\n",
       "\t<tr><td>Asia    </td><td>53.25</td><td>71.6350</td><td>75.500</td><td>78.2375</td><td>86.19</td></tr>\n",
       "\t<tr><td>Europe  </td><td>70.06</td><td>76.9700</td><td>81.300</td><td>82.3500</td><td>89.40</td></tr>\n",
       "\t<tr><td>Oceania </td><td>67.59</td><td>74.1700</td><td>75.060</td><td>77.2900</td><td>82.89</td></tr>\n",
       "</tbody>\n",
       "</table>\n"
      ],
      "text/latex": [
       "A tibble: 5 × 6\n",
       "\\begin{tabular}{llllll}\n",
       " Region & min & q1 & median & q3 & max\\\\\n",
       " <chr> & <dbl> & <dbl> & <dbl> & <dbl> & <dbl>\\\\\n",
       "\\hline\n",
       "\t Africa   & 55.07 & 61.8100 & 65.480 & 69.3450 & 80.25\\\\\n",
       "\t Americas & 65.61 & 74.9525 & 77.655 & 79.4325 & 83.62\\\\\n",
       "\t Asia     & 53.25 & 71.6350 & 75.500 & 78.2375 & 86.19\\\\\n",
       "\t Europe   & 70.06 & 76.9700 & 81.300 & 82.3500 & 89.40\\\\\n",
       "\t Oceania  & 67.59 & 74.1700 & 75.060 & 77.2900 & 82.89\\\\\n",
       "\\end{tabular}\n"
      ],
      "text/markdown": [
       "\n",
       "A tibble: 5 × 6\n",
       "\n",
       "| Region &lt;chr&gt; | min &lt;dbl&gt; | q1 &lt;dbl&gt; | median &lt;dbl&gt; | q3 &lt;dbl&gt; | max &lt;dbl&gt; |\n",
       "|---|---|---|---|---|---|\n",
       "| Africa   | 55.07 | 61.8100 | 65.480 | 69.3450 | 80.25 |\n",
       "| Americas | 65.61 | 74.9525 | 77.655 | 79.4325 | 83.62 |\n",
       "| Asia     | 53.25 | 71.6350 | 75.500 | 78.2375 | 86.19 |\n",
       "| Europe   | 70.06 | 76.9700 | 81.300 | 82.3500 | 89.40 |\n",
       "| Oceania  | 67.59 | 74.1700 | 75.060 | 77.2900 | 82.89 |\n",
       "\n"
      ],
      "text/plain": [
       "  Region   min   q1      median q3      max  \n",
       "1 Africa   55.07 61.8100 65.480 69.3450 80.25\n",
       "2 Americas 65.61 74.9525 77.655 79.4325 83.62\n",
       "3 Asia     53.25 71.6350 75.500 78.2375 86.19\n",
       "4 Europe   70.06 76.9700 81.300 82.3500 89.40\n",
       "5 Oceania  67.59 74.1700 75.060 77.2900 82.89"
      ]
     },
     "metadata": {},
     "output_type": "display_data"
    },
    {
     "data": {
      "text/html": [
       "<table class=\"dataframe\">\n",
       "<caption>A tibble: 5 × 6</caption>\n",
       "<thead>\n",
       "\t<tr><th scope=col>Region</th><th scope=col>min</th><th scope=col>q1</th><th scope=col>median</th><th scope=col>q3</th><th scope=col>max</th></tr>\n",
       "\t<tr><th scope=col>&lt;chr&gt;</th><th scope=col>&lt;dbl&gt;</th><th scope=col>&lt;dbl&gt;</th><th scope=col>&lt;dbl&gt;</th><th scope=col>&lt;dbl&gt;</th><th scope=col>&lt;dbl&gt;</th></tr>\n",
       "</thead>\n",
       "<tbody>\n",
       "\t<tr><td>Africa  </td><td>10.83</td><td>29.4300</td><td>42.39</td><td>57.295</td><td> 88.03</td></tr>\n",
       "\t<tr><td>Americas</td><td> 2.21</td><td> 8.2075</td><td>11.49</td><td>15.205</td><td> 41.29</td></tr>\n",
       "\t<tr><td>Asia    </td><td> 1.56</td><td> 7.5000</td><td>15.64</td><td>26.295</td><td>106.75</td></tr>\n",
       "\t<tr><td>Europe  </td><td> 1.53</td><td> 3.2400</td><td> 3.64</td><td> 5.320</td><td> 29.51</td></tr>\n",
       "\t<tr><td>Oceania </td><td> 3.05</td><td> 7.9600</td><td>12.73</td><td>20.520</td><td> 34.40</td></tr>\n",
       "</tbody>\n",
       "</table>\n"
      ],
      "text/latex": [
       "A tibble: 5 × 6\n",
       "\\begin{tabular}{llllll}\n",
       " Region & min & q1 & median & q3 & max\\\\\n",
       " <chr> & <dbl> & <dbl> & <dbl> & <dbl> & <dbl>\\\\\n",
       "\\hline\n",
       "\t Africa   & 10.83 & 29.4300 & 42.39 & 57.295 &  88.03\\\\\n",
       "\t Americas &  2.21 &  8.2075 & 11.49 & 15.205 &  41.29\\\\\n",
       "\t Asia     &  1.56 &  7.5000 & 15.64 & 26.295 & 106.75\\\\\n",
       "\t Europe   &  1.53 &  3.2400 &  3.64 &  5.320 &  29.51\\\\\n",
       "\t Oceania  &  3.05 &  7.9600 & 12.73 & 20.520 &  34.40\\\\\n",
       "\\end{tabular}\n"
      ],
      "text/markdown": [
       "\n",
       "A tibble: 5 × 6\n",
       "\n",
       "| Region &lt;chr&gt; | min &lt;dbl&gt; | q1 &lt;dbl&gt; | median &lt;dbl&gt; | q3 &lt;dbl&gt; | max &lt;dbl&gt; |\n",
       "|---|---|---|---|---|---|\n",
       "| Africa   | 10.83 | 29.4300 | 42.39 | 57.295 |  88.03 |\n",
       "| Americas |  2.21 |  8.2075 | 11.49 | 15.205 |  41.29 |\n",
       "| Asia     |  1.56 |  7.5000 | 15.64 | 26.295 | 106.75 |\n",
       "| Europe   |  1.53 |  3.2400 |  3.64 |  5.320 |  29.51 |\n",
       "| Oceania  |  3.05 |  7.9600 | 12.73 | 20.520 |  34.40 |\n",
       "\n"
      ],
      "text/plain": [
       "  Region   min   q1      median q3     max   \n",
       "1 Africa   10.83 29.4300 42.39  57.295  88.03\n",
       "2 Americas  2.21  8.2075 11.49  15.205  41.29\n",
       "3 Asia      1.56  7.5000 15.64  26.295 106.75\n",
       "4 Europe    1.53  3.2400  3.64   5.320  29.51\n",
       "5 Oceania   3.05  7.9600 12.73  20.520  34.40"
      ]
     },
     "metadata": {},
     "output_type": "display_data"
    },
    {
     "data": {
      "text/html": [
       "<table class=\"dataframe\">\n",
       "<caption>A tibble: 21 × 6</caption>\n",
       "<thead>\n",
       "\t<tr><th scope=col>Subregion</th><th scope=col>min</th><th scope=col>q1</th><th scope=col>median</th><th scope=col>q3</th><th scope=col>max</th></tr>\n",
       "\t<tr><th scope=col>&lt;fct&gt;</th><th scope=col>&lt;dbl&gt;</th><th scope=col>&lt;dbl&gt;</th><th scope=col>&lt;dbl&gt;</th><th scope=col>&lt;dbl&gt;</th><th scope=col>&lt;dbl&gt;</th></tr>\n",
       "</thead>\n",
       "<tbody>\n",
       "\t<tr><td>Eastern Africa       </td><td>55.32</td><td>65.4800</td><td>67.070</td><td>69.3200</td><td>75.84</td></tr>\n",
       "\t<tr><td>Middle Africa        </td><td>55.07</td><td>61.4300</td><td>61.710</td><td>63.6000</td><td>69.37</td></tr>\n",
       "\t<tr><td>Northern Africa      </td><td>58.60</td><td>70.0950</td><td>74.180</td><td>76.7500</td><td>77.79</td></tr>\n",
       "\t<tr><td>Southern Africa      </td><td>58.90</td><td>59.1300</td><td>65.040</td><td>65.2400</td><td>65.87</td></tr>\n",
       "\t<tr><td>Western Africa       </td><td>58.45</td><td>61.8200</td><td>63.530</td><td>69.0100</td><td>80.25</td></tr>\n",
       "\t<tr><td>Caribbean            </td><td>65.61</td><td>75.8700</td><td>78.310</td><td>80.0500</td><td>82.00</td></tr>\n",
       "\t<tr><td>Central America      </td><td>71.14</td><td>74.0400</td><td>75.005</td><td>75.8625</td><td>79.41</td></tr>\n",
       "\t<tr><td>Northern America     </td><td>73.71</td><td>80.4300</td><td>81.200</td><td>81.8300</td><td>83.62</td></tr>\n",
       "\t<tr><td>South America        </td><td>68.94</td><td>72.2575</td><td>75.035</td><td>78.0850</td><td>79.57</td></tr>\n",
       "\t<tr><td>Eastern Asia         </td><td>71.08</td><td>76.1950</td><td>81.865</td><td>83.7200</td><td>84.81</td></tr>\n",
       "\t<tr><td>South-Central Asia   </td><td>53.25</td><td>69.9125</td><td>72.095</td><td>74.8800</td><td>77.75</td></tr>\n",
       "\t<tr><td>South-Eastern Asia   </td><td>67.71</td><td>69.7100</td><td>72.820</td><td>76.6400</td><td>86.19</td></tr>\n",
       "\t<tr><td>Western Asia         </td><td>67.18</td><td>75.4450</td><td>76.400</td><td>79.1350</td><td>83.15</td></tr>\n",
       "\t<tr><td>Eastern Europe       </td><td>72.16</td><td>73.2375</td><td>74.655</td><td>77.7900</td><td>79.50</td></tr>\n",
       "\t<tr><td>Northern Europe      </td><td>75.61</td><td>81.1425</td><td>81.685</td><td>82.4100</td><td>83.45</td></tr>\n",
       "\t<tr><td>Southern Europe      </td><td>70.06</td><td>77.3750</td><td>80.740</td><td>82.1400</td><td>83.68</td></tr>\n",
       "\t<tr><td>Western Europe       </td><td>81.30</td><td>81.9500</td><td>82.360</td><td>82.7800</td><td>89.40</td></tr>\n",
       "\t<tr><td>Australia/New Zealand</td><td>82.33</td><td>82.4700</td><td>82.610</td><td>82.7500</td><td>82.89</td></tr>\n",
       "\t<tr><td>Melanesia            </td><td>69.12</td><td>74.0000</td><td>74.870</td><td>76.4500</td><td>78.59</td></tr>\n",
       "\t<tr><td>Micronesia           </td><td>67.59</td><td>70.8950</td><td>74.380</td><td>75.3550</td><td>77.25</td></tr>\n",
       "\t<tr><td>Polynesia            </td><td>68.07</td><td>74.9900</td><td>76.890</td><td>77.7400</td><td>80.45</td></tr>\n",
       "</tbody>\n",
       "</table>\n"
      ],
      "text/latex": [
       "A tibble: 21 × 6\n",
       "\\begin{tabular}{llllll}\n",
       " Subregion & min & q1 & median & q3 & max\\\\\n",
       " <fct> & <dbl> & <dbl> & <dbl> & <dbl> & <dbl>\\\\\n",
       "\\hline\n",
       "\t Eastern Africa        & 55.32 & 65.4800 & 67.070 & 69.3200 & 75.84\\\\\n",
       "\t Middle Africa         & 55.07 & 61.4300 & 61.710 & 63.6000 & 69.37\\\\\n",
       "\t Northern Africa       & 58.60 & 70.0950 & 74.180 & 76.7500 & 77.79\\\\\n",
       "\t Southern Africa       & 58.90 & 59.1300 & 65.040 & 65.2400 & 65.87\\\\\n",
       "\t Western Africa        & 58.45 & 61.8200 & 63.530 & 69.0100 & 80.25\\\\\n",
       "\t Caribbean             & 65.61 & 75.8700 & 78.310 & 80.0500 & 82.00\\\\\n",
       "\t Central America       & 71.14 & 74.0400 & 75.005 & 75.8625 & 79.41\\\\\n",
       "\t Northern America      & 73.71 & 80.4300 & 81.200 & 81.8300 & 83.62\\\\\n",
       "\t South America         & 68.94 & 72.2575 & 75.035 & 78.0850 & 79.57\\\\\n",
       "\t Eastern Asia          & 71.08 & 76.1950 & 81.865 & 83.7200 & 84.81\\\\\n",
       "\t South-Central Asia    & 53.25 & 69.9125 & 72.095 & 74.8800 & 77.75\\\\\n",
       "\t South-Eastern Asia    & 67.71 & 69.7100 & 72.820 & 76.6400 & 86.19\\\\\n",
       "\t Western Asia          & 67.18 & 75.4450 & 76.400 & 79.1350 & 83.15\\\\\n",
       "\t Eastern Europe        & 72.16 & 73.2375 & 74.655 & 77.7900 & 79.50\\\\\n",
       "\t Northern Europe       & 75.61 & 81.1425 & 81.685 & 82.4100 & 83.45\\\\\n",
       "\t Southern Europe       & 70.06 & 77.3750 & 80.740 & 82.1400 & 83.68\\\\\n",
       "\t Western Europe        & 81.30 & 81.9500 & 82.360 & 82.7800 & 89.40\\\\\n",
       "\t Australia/New Zealand & 82.33 & 82.4700 & 82.610 & 82.7500 & 82.89\\\\\n",
       "\t Melanesia             & 69.12 & 74.0000 & 74.870 & 76.4500 & 78.59\\\\\n",
       "\t Micronesia            & 67.59 & 70.8950 & 74.380 & 75.3550 & 77.25\\\\\n",
       "\t Polynesia             & 68.07 & 74.9900 & 76.890 & 77.7400 & 80.45\\\\\n",
       "\\end{tabular}\n"
      ],
      "text/markdown": [
       "\n",
       "A tibble: 21 × 6\n",
       "\n",
       "| Subregion &lt;fct&gt; | min &lt;dbl&gt; | q1 &lt;dbl&gt; | median &lt;dbl&gt; | q3 &lt;dbl&gt; | max &lt;dbl&gt; |\n",
       "|---|---|---|---|---|---|\n",
       "| Eastern Africa        | 55.32 | 65.4800 | 67.070 | 69.3200 | 75.84 |\n",
       "| Middle Africa         | 55.07 | 61.4300 | 61.710 | 63.6000 | 69.37 |\n",
       "| Northern Africa       | 58.60 | 70.0950 | 74.180 | 76.7500 | 77.79 |\n",
       "| Southern Africa       | 58.90 | 59.1300 | 65.040 | 65.2400 | 65.87 |\n",
       "| Western Africa        | 58.45 | 61.8200 | 63.530 | 69.0100 | 80.25 |\n",
       "| Caribbean             | 65.61 | 75.8700 | 78.310 | 80.0500 | 82.00 |\n",
       "| Central America       | 71.14 | 74.0400 | 75.005 | 75.8625 | 79.41 |\n",
       "| Northern America      | 73.71 | 80.4300 | 81.200 | 81.8300 | 83.62 |\n",
       "| South America         | 68.94 | 72.2575 | 75.035 | 78.0850 | 79.57 |\n",
       "| Eastern Asia          | 71.08 | 76.1950 | 81.865 | 83.7200 | 84.81 |\n",
       "| South-Central Asia    | 53.25 | 69.9125 | 72.095 | 74.8800 | 77.75 |\n",
       "| South-Eastern Asia    | 67.71 | 69.7100 | 72.820 | 76.6400 | 86.19 |\n",
       "| Western Asia          | 67.18 | 75.4450 | 76.400 | 79.1350 | 83.15 |\n",
       "| Eastern Europe        | 72.16 | 73.2375 | 74.655 | 77.7900 | 79.50 |\n",
       "| Northern Europe       | 75.61 | 81.1425 | 81.685 | 82.4100 | 83.45 |\n",
       "| Southern Europe       | 70.06 | 77.3750 | 80.740 | 82.1400 | 83.68 |\n",
       "| Western Europe        | 81.30 | 81.9500 | 82.360 | 82.7800 | 89.40 |\n",
       "| Australia/New Zealand | 82.33 | 82.4700 | 82.610 | 82.7500 | 82.89 |\n",
       "| Melanesia             | 69.12 | 74.0000 | 74.870 | 76.4500 | 78.59 |\n",
       "| Micronesia            | 67.59 | 70.8950 | 74.380 | 75.3550 | 77.25 |\n",
       "| Polynesia             | 68.07 | 74.9900 | 76.890 | 77.7400 | 80.45 |\n",
       "\n"
      ],
      "text/plain": [
       "   Subregion             min   q1      median q3      max  \n",
       "1  Eastern Africa        55.32 65.4800 67.070 69.3200 75.84\n",
       "2  Middle Africa         55.07 61.4300 61.710 63.6000 69.37\n",
       "3  Northern Africa       58.60 70.0950 74.180 76.7500 77.79\n",
       "4  Southern Africa       58.90 59.1300 65.040 65.2400 65.87\n",
       "5  Western Africa        58.45 61.8200 63.530 69.0100 80.25\n",
       "6  Caribbean             65.61 75.8700 78.310 80.0500 82.00\n",
       "7  Central America       71.14 74.0400 75.005 75.8625 79.41\n",
       "8  Northern America      73.71 80.4300 81.200 81.8300 83.62\n",
       "9  South America         68.94 72.2575 75.035 78.0850 79.57\n",
       "10 Eastern Asia          71.08 76.1950 81.865 83.7200 84.81\n",
       "11 South-Central Asia    53.25 69.9125 72.095 74.8800 77.75\n",
       "12 South-Eastern Asia    67.71 69.7100 72.820 76.6400 86.19\n",
       "13 Western Asia          67.18 75.4450 76.400 79.1350 83.15\n",
       "14 Eastern Europe        72.16 73.2375 74.655 77.7900 79.50\n",
       "15 Northern Europe       75.61 81.1425 81.685 82.4100 83.45\n",
       "16 Southern Europe       70.06 77.3750 80.740 82.1400 83.68\n",
       "17 Western Europe        81.30 81.9500 82.360 82.7800 89.40\n",
       "18 Australia/New Zealand 82.33 82.4700 82.610 82.7500 82.89\n",
       "19 Melanesia             69.12 74.0000 74.870 76.4500 78.59\n",
       "20 Micronesia            67.59 70.8950 74.380 75.3550 77.25\n",
       "21 Polynesia             68.07 74.9900 76.890 77.7400 80.45"
      ]
     },
     "metadata": {},
     "output_type": "display_data"
    },
    {
     "data": {
      "text/html": [
       "<table class=\"dataframe\">\n",
       "<caption>A tibble: 21 × 6</caption>\n",
       "<thead>\n",
       "\t<tr><th scope=col>Subregion</th><th scope=col>min</th><th scope=col>q1</th><th scope=col>median</th><th scope=col>q3</th><th scope=col>max</th></tr>\n",
       "\t<tr><th scope=col>&lt;fct&gt;</th><th scope=col>&lt;dbl&gt;</th><th scope=col>&lt;dbl&gt;</th><th scope=col>&lt;dbl&gt;</th><th scope=col>&lt;dbl&gt;</th><th scope=col>&lt;dbl&gt;</th></tr>\n",
       "</thead>\n",
       "<tbody>\n",
       "\t<tr><td>Eastern Africa       </td><td>10.83</td><td>29.4100</td><td>34.620</td><td>42.3900</td><td> 88.03</td></tr>\n",
       "\t<tr><td>Middle Africa        </td><td>29.45</td><td>49.2800</td><td>60.580</td><td>67.0200</td><td> 84.22</td></tr>\n",
       "\t<tr><td>Northern Africa      </td><td>11.48</td><td>15.1550</td><td>19.680</td><td>31.6900</td><td> 64.77</td></tr>\n",
       "\t<tr><td>Southern Africa      </td><td>25.97</td><td>26.8200</td><td>30.380</td><td>41.2000</td><td> 50.23</td></tr>\n",
       "\t<tr><td>Western Africa       </td><td>19.77</td><td>37.9600</td><td>50.710</td><td>57.3600</td><td> 74.55</td></tr>\n",
       "\t<tr><td>Caribbean            </td><td> 3.11</td><td> 7.8400</td><td>10.700</td><td>13.0500</td><td> 41.29</td></tr>\n",
       "\t<tr><td>Central America      </td><td> 8.59</td><td>11.6475</td><td>13.885</td><td>18.1600</td><td> 26.81</td></tr>\n",
       "\t<tr><td>Northern America     </td><td> 2.21</td><td> 4.4400</td><td> 5.220</td><td> 8.3500</td><td>  8.90</td></tr>\n",
       "\t<tr><td>South America        </td><td> 6.68</td><td>10.4875</td><td>16.340</td><td>22.3800</td><td> 30.58</td></tr>\n",
       "\t<tr><td>Eastern Asia         </td><td> 1.92</td><td> 2.8300</td><td> 4.360</td><td>10.2200</td><td> 22.42</td></tr>\n",
       "\t<tr><td>South-Central Asia   </td><td> 8.36</td><td>21.1250</td><td>27.480</td><td>32.5700</td><td>106.75</td></tr>\n",
       "\t<tr><td>South-Eastern Asia   </td><td> 1.56</td><td> 8.7450</td><td>20.160</td><td>32.0750</td><td> 39.03</td></tr>\n",
       "\t<tr><td>Western Asia         </td><td> 3.62</td><td> 8.1050</td><td>14.250</td><td>15.9750</td><td> 47.56</td></tr>\n",
       "\t<tr><td>Eastern Europe       </td><td> 2.42</td><td> 4.3375</td><td> 5.705</td><td> 7.2475</td><td> 11.83</td></tr>\n",
       "\t<tr><td>Northern Europe      </td><td> 1.66</td><td> 2.5275</td><td> 3.495</td><td> 3.9175</td><td>  6.11</td></tr>\n",
       "\t<tr><td>Southern Europe      </td><td> 1.53</td><td> 3.2900</td><td> 4.910</td><td> 6.8750</td><td> 29.51</td></tr>\n",
       "\t<tr><td>Western Europe       </td><td> 1.78</td><td> 3.2400</td><td> 3.290</td><td> 3.4500</td><td>  4.12</td></tr>\n",
       "\t<tr><td>Australia/New Zealand</td><td> 3.05</td><td> 3.1625</td><td> 3.275</td><td> 3.3875</td><td>  3.50</td></tr>\n",
       "\t<tr><td>Melanesia            </td><td> 5.08</td><td>10.2700</td><td>14.690</td><td>20.5200</td><td> 34.40</td></tr>\n",
       "\t<tr><td>Micronesia           </td><td> 7.96</td><td>11.6250</td><td>12.790</td><td>22.3250</td><td> 33.66</td></tr>\n",
       "\t<tr><td>Polynesia            </td><td> 4.06</td><td> 7.3550</td><td>12.730</td><td>17.5400</td><td> 29.52</td></tr>\n",
       "</tbody>\n",
       "</table>\n"
      ],
      "text/latex": [
       "A tibble: 21 × 6\n",
       "\\begin{tabular}{llllll}\n",
       " Subregion & min & q1 & median & q3 & max\\\\\n",
       " <fct> & <dbl> & <dbl> & <dbl> & <dbl> & <dbl>\\\\\n",
       "\\hline\n",
       "\t Eastern Africa        & 10.83 & 29.4100 & 34.620 & 42.3900 &  88.03\\\\\n",
       "\t Middle Africa         & 29.45 & 49.2800 & 60.580 & 67.0200 &  84.22\\\\\n",
       "\t Northern Africa       & 11.48 & 15.1550 & 19.680 & 31.6900 &  64.77\\\\\n",
       "\t Southern Africa       & 25.97 & 26.8200 & 30.380 & 41.2000 &  50.23\\\\\n",
       "\t Western Africa        & 19.77 & 37.9600 & 50.710 & 57.3600 &  74.55\\\\\n",
       "\t Caribbean             &  3.11 &  7.8400 & 10.700 & 13.0500 &  41.29\\\\\n",
       "\t Central America       &  8.59 & 11.6475 & 13.885 & 18.1600 &  26.81\\\\\n",
       "\t Northern America      &  2.21 &  4.4400 &  5.220 &  8.3500 &   8.90\\\\\n",
       "\t South America         &  6.68 & 10.4875 & 16.340 & 22.3800 &  30.58\\\\\n",
       "\t Eastern Asia          &  1.92 &  2.8300 &  4.360 & 10.2200 &  22.42\\\\\n",
       "\t South-Central Asia    &  8.36 & 21.1250 & 27.480 & 32.5700 & 106.75\\\\\n",
       "\t South-Eastern Asia    &  1.56 &  8.7450 & 20.160 & 32.0750 &  39.03\\\\\n",
       "\t Western Asia          &  3.62 &  8.1050 & 14.250 & 15.9750 &  47.56\\\\\n",
       "\t Eastern Europe        &  2.42 &  4.3375 &  5.705 &  7.2475 &  11.83\\\\\n",
       "\t Northern Europe       &  1.66 &  2.5275 &  3.495 &  3.9175 &   6.11\\\\\n",
       "\t Southern Europe       &  1.53 &  3.2900 &  4.910 &  6.8750 &  29.51\\\\\n",
       "\t Western Europe        &  1.78 &  3.2400 &  3.290 &  3.4500 &   4.12\\\\\n",
       "\t Australia/New Zealand &  3.05 &  3.1625 &  3.275 &  3.3875 &   3.50\\\\\n",
       "\t Melanesia             &  5.08 & 10.2700 & 14.690 & 20.5200 &  34.40\\\\\n",
       "\t Micronesia            &  7.96 & 11.6250 & 12.790 & 22.3250 &  33.66\\\\\n",
       "\t Polynesia             &  4.06 &  7.3550 & 12.730 & 17.5400 &  29.52\\\\\n",
       "\\end{tabular}\n"
      ],
      "text/markdown": [
       "\n",
       "A tibble: 21 × 6\n",
       "\n",
       "| Subregion &lt;fct&gt; | min &lt;dbl&gt; | q1 &lt;dbl&gt; | median &lt;dbl&gt; | q3 &lt;dbl&gt; | max &lt;dbl&gt; |\n",
       "|---|---|---|---|---|---|\n",
       "| Eastern Africa        | 10.83 | 29.4100 | 34.620 | 42.3900 |  88.03 |\n",
       "| Middle Africa         | 29.45 | 49.2800 | 60.580 | 67.0200 |  84.22 |\n",
       "| Northern Africa       | 11.48 | 15.1550 | 19.680 | 31.6900 |  64.77 |\n",
       "| Southern Africa       | 25.97 | 26.8200 | 30.380 | 41.2000 |  50.23 |\n",
       "| Western Africa        | 19.77 | 37.9600 | 50.710 | 57.3600 |  74.55 |\n",
       "| Caribbean             |  3.11 |  7.8400 | 10.700 | 13.0500 |  41.29 |\n",
       "| Central America       |  8.59 | 11.6475 | 13.885 | 18.1600 |  26.81 |\n",
       "| Northern America      |  2.21 |  4.4400 |  5.220 |  8.3500 |   8.90 |\n",
       "| South America         |  6.68 | 10.4875 | 16.340 | 22.3800 |  30.58 |\n",
       "| Eastern Asia          |  1.92 |  2.8300 |  4.360 | 10.2200 |  22.42 |\n",
       "| South-Central Asia    |  8.36 | 21.1250 | 27.480 | 32.5700 | 106.75 |\n",
       "| South-Eastern Asia    |  1.56 |  8.7450 | 20.160 | 32.0750 |  39.03 |\n",
       "| Western Asia          |  3.62 |  8.1050 | 14.250 | 15.9750 |  47.56 |\n",
       "| Eastern Europe        |  2.42 |  4.3375 |  5.705 |  7.2475 |  11.83 |\n",
       "| Northern Europe       |  1.66 |  2.5275 |  3.495 |  3.9175 |   6.11 |\n",
       "| Southern Europe       |  1.53 |  3.2900 |  4.910 |  6.8750 |  29.51 |\n",
       "| Western Europe        |  1.78 |  3.2400 |  3.290 |  3.4500 |   4.12 |\n",
       "| Australia/New Zealand |  3.05 |  3.1625 |  3.275 |  3.3875 |   3.50 |\n",
       "| Melanesia             |  5.08 | 10.2700 | 14.690 | 20.5200 |  34.40 |\n",
       "| Micronesia            |  7.96 | 11.6250 | 12.790 | 22.3250 |  33.66 |\n",
       "| Polynesia             |  4.06 |  7.3550 | 12.730 | 17.5400 |  29.52 |\n",
       "\n"
      ],
      "text/plain": [
       "   Subregion             min   q1      median q3      max   \n",
       "1  Eastern Africa        10.83 29.4100 34.620 42.3900  88.03\n",
       "2  Middle Africa         29.45 49.2800 60.580 67.0200  84.22\n",
       "3  Northern Africa       11.48 15.1550 19.680 31.6900  64.77\n",
       "4  Southern Africa       25.97 26.8200 30.380 41.2000  50.23\n",
       "5  Western Africa        19.77 37.9600 50.710 57.3600  74.55\n",
       "6  Caribbean              3.11  7.8400 10.700 13.0500  41.29\n",
       "7  Central America        8.59 11.6475 13.885 18.1600  26.81\n",
       "8  Northern America       2.21  4.4400  5.220  8.3500   8.90\n",
       "9  South America          6.68 10.4875 16.340 22.3800  30.58\n",
       "10 Eastern Asia           1.92  2.8300  4.360 10.2200  22.42\n",
       "11 South-Central Asia     8.36 21.1250 27.480 32.5700 106.75\n",
       "12 South-Eastern Asia     1.56  8.7450 20.160 32.0750  39.03\n",
       "13 Western Asia           3.62  8.1050 14.250 15.9750  47.56\n",
       "14 Eastern Europe         2.42  4.3375  5.705  7.2475  11.83\n",
       "15 Northern Europe        1.66  2.5275  3.495  3.9175   6.11\n",
       "16 Southern Europe        1.53  3.2900  4.910  6.8750  29.51\n",
       "17 Western Europe         1.78  3.2400  3.290  3.4500   4.12\n",
       "18 Australia/New Zealand  3.05  3.1625  3.275  3.3875   3.50\n",
       "19 Melanesia              5.08 10.2700 14.690 20.5200  34.40\n",
       "20 Micronesia             7.96 11.6250 12.790 22.3250  33.66\n",
       "21 Polynesia              4.06  7.3550 12.730 17.5400  29.52"
      ]
     },
     "metadata": {},
     "output_type": "display_data"
    }
   ],
   "source": [
    "#Summary for box plot for life expectancy of both sexes in regions and subregions\n",
    "census_data_2021 %>%                               # Summary by group using dplyr\n",
    "  group_by(Region) %>% \n",
    "  dplyr::summarize(min = min(Life_exp_both),\n",
    "            q1 = quantile(Life_exp_both, 0.25),\n",
    "            median = median(Life_exp_both),\n",
    "            q3 = quantile(Life_exp_both, 0.75),\n",
    "            max = max(Life_exp_both))\n",
    "\n",
    "census_data_2021 %>%                               # Summary by group using dplyr\n",
    "  group_by(Region) %>% \n",
    "  dplyr::summarize(min = min(Mortality_rate),\n",
    "            q1 = quantile(Mortality_rate, 0.25),\n",
    "            median = median(Mortality_rate),\n",
    "            q3 = quantile(Mortality_rate, 0.75),\n",
    "            max = max(Mortality_rate))\n",
    "\n",
    "census_data_2021 %>%                               # Summary by group using dplyr\n",
    "  group_by(Subregion) %>% \n",
    "  dplyr::summarize(min = min(Life_exp_both),\n",
    "            q1 = quantile(Life_exp_both, 0.25),\n",
    "            median = median(Life_exp_both),\n",
    "            q3 = quantile(Life_exp_both, 0.75),\n",
    "            max = max(Life_exp_both))\n",
    "\n",
    "census_data_2021 %>%                               # Summary by group using dplyr\n",
    "  group_by(Subregion) %>% \n",
    "  dplyr::summarize(min = min(Mortality_rate),\n",
    "            q1 = quantile(Mortality_rate, 0.25),\n",
    "            median = median(Mortality_rate),\n",
    "            q3 = quantile(Mortality_rate, 0.75),\n",
    "            max = max(Mortality_rate))"
   ]
  },
  {
   "cell_type": "code",
   "execution_count": 20,
   "id": "a634d1a4",
   "metadata": {
    "vscode": {
     "languageId": "r"
    }
   },
   "outputs": [
    {
     "name": "stderr",
     "output_type": "stream",
     "text": [
      "Saving 6.67 x 6.67 in image\n",
      "\n"
     ]
    },
    {
     "data": {
      "image/png": "[encoded data removed]",
      "text/plain": [
       "plot without title"
      ]
     },
     "metadata": {
      "image/png": {
       "height": 420,
       "width": 420
      }
     },
     "output_type": "display_data"
    }
   ],
   "source": [
    "#Comparing the Life Expectancies of Male in Sub Regions\n",
    "box_plot1 <- census_data_2021 %>%\n",
    "  ggplot(aes(x=Subregion, y=Life_exp_both, fill=Region)) +\n",
    "  geom_boxplot() +\n",
    "  coord_flip()+ scale_fill_brewer(palette=\"Accent\") +\n",
    "  theme(legend.position=\"top\", \n",
    "        axis.text = element_text(vjust = 0.5, size = 9),\n",
    "        legend.text = element_text(size = 11), \n",
    "        axis.title=element_text(size=11)\n",
    "       )+\n",
    "  xlab(\"Sub regions\") + ylab(\"Life expectancy of both genders\") \n",
    "box_plot1\n",
    "ggsave('Boxplot1.pdf', plot = box_plot1)"
   ]
  },
  {
   "cell_type": "code",
   "execution_count": 21,
   "id": "934c781e",
   "metadata": {
    "vscode": {
     "languageId": "r"
    }
   },
   "outputs": [
    {
     "name": "stderr",
     "output_type": "stream",
     "text": [
      "Saving 6.67 x 6.67 in image\n",
      "\n"
     ]
    },
    {
     "data": {
      "image/png": "[encoded data removed]",
      "text/plain": [
       "plot without title"
      ]
     },
     "metadata": {
      "image/png": {
       "height": 420,
       "width": 420
      }
     },
     "output_type": "display_data"
    }
   ],
   "source": [
    "#Comparing the infant mortality rate in sub regions\n",
    "box_plot2 <-  census_data_2021 %>%\n",
    "  ggplot(aes(x=Subregion, y=Mortality_rate, fill=Region)) +\n",
    "  geom_boxplot() + scale_fill_brewer(palette=\"Accent\") +\n",
    "  coord_flip()+\n",
    "  theme(legend.position=\"top\", \n",
    "        axis.text = element_text(vjust = 0.5, size = 9),\n",
    "        legend.text = element_text(size = 11), \n",
    "        axis.title=element_text(size=11)\n",
    "       )+\n",
    "  xlab(\"Sub regions\") + ylab(\"Infant mortality rate\") \n",
    "box_plot2\n",
    "ggsave('Boxplot2.pdf', plot = box_plot2)"
   ]
  },
  {
   "cell_type": "code",
   "execution_count": 22,
   "id": "f13b3177",
   "metadata": {
    "vscode": {
     "languageId": "r"
    }
   },
   "outputs": [],
   "source": [
    "#####TASK4####### "
   ]
  },
  {
   "cell_type": "code",
   "execution_count": 23,
   "id": "f13b38f3",
   "metadata": {
    "vscode": {
     "languageId": "r"
    }
   },
   "outputs": [],
   "source": [
    "countries  <- census_data[which(is.na(census_data$Mortality_rate)),]$Country"
   ]
  },
  {
   "cell_type": "code",
   "execution_count": 24,
   "id": "7ebfe702",
   "metadata": {
    "vscode": {
     "languageId": "r"
    }
   },
   "outputs": [],
   "source": [
    "census_data_2001  <- census_data_2001  %>% filter(!Country %in% countries)\n",
    "census_data_2021  <- census_data_2021  %>% filter(!Country %in% countries)"
   ]
  },
  {
   "cell_type": "code",
   "execution_count": 25,
   "id": "c61f639d",
   "metadata": {
    "scrolled": false,
    "vscode": {
     "languageId": "r"
    }
   },
   "outputs": [
    {
     "name": "stderr",
     "output_type": "stream",
     "text": [
      "Saving 6.67 x 6.67 in image\n",
      "\n",
      "Saving 6.67 x 6.67 in image\n",
      "\n"
     ]
    },
    {
     "data": {
      "image/png": "[encoded data removed]",
      "text/plain": [
       "plot without title"
      ]
     },
     "metadata": {
      "image/png": {
       "height": 420,
       "width": 420
      }
     },
     "output_type": "display_data"
    },
    {
     "data": {
      "image/png": "[encoded data removed]",
      "text/plain": [
       "plot without title"
      ]
     },
     "metadata": {
      "image/png": {
       "height": 420,
       "width": 420
      }
     },
     "output_type": "display_data"
    }
   ],
   "source": [
    "scat_plot1 <- ggplot(data = NULL, aes(x = census_data_2001$Life_exp_both, \n",
    "                        y = census_data_2021$Life_exp_both, \n",
    "                        color = census_data_2001$Region)) + \n",
    "      geom_point(size = 2.5) + guides(colour = guide_legend(title = \"Subregion\", size = 12)) + \n",
    "      geom_abline(intercept =0 , slope = 1)+ xlim(40,90)+ylim(40,90) +\n",
    "      xlab(\"Life expectancy of both sexes in 2001\") + ylab(\"Life expectancy of both sexes in 2021\") + \n",
    "      theme(plot.title = element_text(hjust = 0.5, size = 12, face=\"bold\"),\n",
    "          legend.position = c(0.15, 0.85),legend.background = element_rect(fill = \"transparent\"), \n",
    "          legend.text = element_text(size = 11), \n",
    "          axis.text=element_text(size=9),\n",
    "          axis.title=element_text(size=11))\n",
    "\n",
    "scat_plot2  <- ggplot(data = NULL, aes(x = census_data_2001$Mortality_rate, \n",
    "                        y = census_data_2021$Mortality_rate, \n",
    "                        color = census_data_2001$Region)) + geom_abline(intercept =0 , slope = 1) +\n",
    "      xlim(0,150)+ylim(0,150) +\n",
    "      geom_point(size = 2.5) + guides(colour = guide_legend(title = \"Subregion\", size = 12)) + \n",
    "      xlab(\"Infant mortality rate in 2001\") + ylab(\"Infant mortality rate in 2021\") + \n",
    "      theme(plot.title = element_text(hjust = 0.5, size = 12, face=\"bold\"),\n",
    "          legend.position = c(0.15, 0.85),legend.background = element_rect(fill = \"transparent\"), \n",
    "          legend.text = element_text(size = 11), \n",
    "          axis.text=element_text(size=9),\n",
    "          axis.title=element_text(size=11))\n",
    "\n",
    "ggsave(\"final_plot1.pdf\",plot = scat_plot1)\n",
    "ggsave(\"final_plot2.pdf\",plot = scat_plot2)\n",
    "scat_plot1\n",
    "scat_plot2"
   ]
  }
 ],
 "metadata": {
  "kernelspec": {
   "display_name": "R",
   "language": "R",
   "name": "ir"
  },
  "language_info": {
   "codemirror_mode": "r",
   "file_extension": ".r",
   "mimetype": "text/x-r-source",
   "name": "R",
   "pygments_lexer": "r",
   "version": "4.1.2"
  }
 },
 "nbformat": 4,
 "nbformat_minor": 5
}
