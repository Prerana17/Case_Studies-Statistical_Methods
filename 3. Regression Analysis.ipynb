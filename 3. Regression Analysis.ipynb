{
 "cells": [
  {
   "cell_type": "code",
   "execution_count": 1,
   "id": "30915706",
   "metadata": {
    "vscode": {
     "languageId": "r"
    }
   },
   "outputs": [],
   "source": [
    "############################################################\n",
    "## Title  : 'Regression Analysis'                         ##\n",
    "## Author : 'Prerana Rajeev Chandratre'                   ##\n",
    "############################################################"
   ]
  },
  {
   "cell_type": "code",
   "execution_count": null,
   "id": "207c9f11",
   "metadata": {
    "vscode": {
     "languageId": "r"
    }
   },
   "outputs": [],
   "source": [
    "library(ggplot2)\n",
    "library(GGally)\n",
    "library(ggpubr)\n",
    "library(dplyr)\n",
    "library(olsrr)"
   ]
  },
  {
   "cell_type": "code",
   "execution_count": 3,
   "id": "ecea093c",
   "metadata": {
    "vscode": {
     "languageId": "r"
    }
   },
   "outputs": [],
   "source": [
    "#Loading the Input data\n",
    "input_data <- read.csv('bodymeasurements.csv')"
   ]
  },
  {
   "cell_type": "code",
   "execution_count": 4,
   "id": "3372a58b",
   "metadata": {
    "vscode": {
     "languageId": "r"
    }
   },
   "outputs": [],
   "source": [
    "#Remove the variable ID\n",
    "input_data  <- input_data  %>% dplyr::select(-ID)"
   ]
  },
  {
   "cell_type": "code",
   "execution_count": 5,
   "id": "8e305d4f",
   "metadata": {
    "vscode": {
     "languageId": "r"
    }
   },
   "outputs": [
    {
     "data": {
      "text/html": [
       "<table class=\"dataframe\">\n",
       "<caption>A data.frame: 6 × 12</caption>\n",
       "<thead>\n",
       "\t<tr><th></th><th scope=col>Age</th><th scope=col>Sex</th><th scope=col>Height</th><th scope=col>Chest</th><th scope=col>Belly</th><th scope=col>Thigh</th><th scope=col>Knee</th><th scope=col>Calf</th><th scope=col>Ankle</th><th scope=col>Biceps</th><th scope=col>Wrist</th><th scope=col>Weight</th></tr>\n",
       "\t<tr><th></th><th scope=col>&lt;int&gt;</th><th scope=col>&lt;chr&gt;</th><th scope=col>&lt;dbl&gt;</th><th scope=col>&lt;dbl&gt;</th><th scope=col>&lt;dbl&gt;</th><th scope=col>&lt;dbl&gt;</th><th scope=col>&lt;dbl&gt;</th><th scope=col>&lt;dbl&gt;</th><th scope=col>&lt;dbl&gt;</th><th scope=col>&lt;dbl&gt;</th><th scope=col>&lt;dbl&gt;</th><th scope=col>&lt;dbl&gt;</th></tr>\n",
       "</thead>\n",
       "<tbody>\n",
       "\t<tr><th scope=row>1</th><td>21</td><td>m</td><td>174.0</td><td>89.5</td><td>71.5</td><td>51.5</td><td>34.5</td><td>36.5</td><td>23.5</td><td>32.5</td><td>16.5</td><td>65.6</td></tr>\n",
       "\t<tr><th scope=row>2</th><td>23</td><td>m</td><td>175.3</td><td>97.0</td><td>79.0</td><td>51.5</td><td>36.5</td><td>37.5</td><td>24.5</td><td>34.4</td><td>17.0</td><td>71.8</td></tr>\n",
       "\t<tr><th scope=row>3</th><td>28</td><td>m</td><td>193.5</td><td>97.5</td><td>83.2</td><td>57.3</td><td>37.0</td><td>37.3</td><td>21.9</td><td>33.4</td><td>16.9</td><td>80.7</td></tr>\n",
       "\t<tr><th scope=row>4</th><td>23</td><td>m</td><td>186.5</td><td>97.0</td><td>77.8</td><td>53.0</td><td>37.0</td><td>34.8</td><td>23.0</td><td>31.0</td><td>16.6</td><td>72.6</td></tr>\n",
       "\t<tr><th scope=row>5</th><td>22</td><td>m</td><td>187.2</td><td>97.5</td><td>80.0</td><td>55.4</td><td>37.7</td><td>38.6</td><td>24.4</td><td>32.0</td><td>18.0</td><td>78.8</td></tr>\n",
       "\t<tr><th scope=row>6</th><td>21</td><td>m</td><td>181.5</td><td>99.9</td><td>82.5</td><td>57.5</td><td>36.6</td><td>36.1</td><td>23.5</td><td>33.0</td><td>16.9</td><td>74.8</td></tr>\n",
       "</tbody>\n",
       "</table>\n"
      ],
      "text/latex": [
       "A data.frame: 6 × 12\n",
       "\\begin{tabular}{r|llllllllllll}\n",
       "  & Age & Sex & Height & Chest & Belly & Thigh & Knee & Calf & Ankle & Biceps & Wrist & Weight\\\\\n",
       "  & <int> & <chr> & <dbl> & <dbl> & <dbl> & <dbl> & <dbl> & <dbl> & <dbl> & <dbl> & <dbl> & <dbl>\\\\\n",
       "\\hline\n",
       "\t1 & 21 & m & 174.0 & 89.5 & 71.5 & 51.5 & 34.5 & 36.5 & 23.5 & 32.5 & 16.5 & 65.6\\\\\n",
       "\t2 & 23 & m & 175.3 & 97.0 & 79.0 & 51.5 & 36.5 & 37.5 & 24.5 & 34.4 & 17.0 & 71.8\\\\\n",
       "\t3 & 28 & m & 193.5 & 97.5 & 83.2 & 57.3 & 37.0 & 37.3 & 21.9 & 33.4 & 16.9 & 80.7\\\\\n",
       "\t4 & 23 & m & 186.5 & 97.0 & 77.8 & 53.0 & 37.0 & 34.8 & 23.0 & 31.0 & 16.6 & 72.6\\\\\n",
       "\t5 & 22 & m & 187.2 & 97.5 & 80.0 & 55.4 & 37.7 & 38.6 & 24.4 & 32.0 & 18.0 & 78.8\\\\\n",
       "\t6 & 21 & m & 181.5 & 99.9 & 82.5 & 57.5 & 36.6 & 36.1 & 23.5 & 33.0 & 16.9 & 74.8\\\\\n",
       "\\end{tabular}\n"
      ],
      "text/markdown": [
       "\n",
       "A data.frame: 6 × 12\n",
       "\n",
       "| <!--/--> | Age &lt;int&gt; | Sex &lt;chr&gt; | Height &lt;dbl&gt; | Chest &lt;dbl&gt; | Belly &lt;dbl&gt; | Thigh &lt;dbl&gt; | Knee &lt;dbl&gt; | Calf &lt;dbl&gt; | Ankle &lt;dbl&gt; | Biceps &lt;dbl&gt; | Wrist &lt;dbl&gt; | Weight &lt;dbl&gt; |\n",
       "|---|---|---|---|---|---|---|---|---|---|---|---|---|\n",
       "| 1 | 21 | m | 174.0 | 89.5 | 71.5 | 51.5 | 34.5 | 36.5 | 23.5 | 32.5 | 16.5 | 65.6 |\n",
       "| 2 | 23 | m | 175.3 | 97.0 | 79.0 | 51.5 | 36.5 | 37.5 | 24.5 | 34.4 | 17.0 | 71.8 |\n",
       "| 3 | 28 | m | 193.5 | 97.5 | 83.2 | 57.3 | 37.0 | 37.3 | 21.9 | 33.4 | 16.9 | 80.7 |\n",
       "| 4 | 23 | m | 186.5 | 97.0 | 77.8 | 53.0 | 37.0 | 34.8 | 23.0 | 31.0 | 16.6 | 72.6 |\n",
       "| 5 | 22 | m | 187.2 | 97.5 | 80.0 | 55.4 | 37.7 | 38.6 | 24.4 | 32.0 | 18.0 | 78.8 |\n",
       "| 6 | 21 | m | 181.5 | 99.9 | 82.5 | 57.5 | 36.6 | 36.1 | 23.5 | 33.0 | 16.9 | 74.8 |\n",
       "\n"
      ],
      "text/plain": [
       "  Age Sex Height Chest Belly Thigh Knee Calf Ankle Biceps Wrist Weight\n",
       "1 21  m   174.0  89.5  71.5  51.5  34.5 36.5 23.5  32.5   16.5  65.6  \n",
       "2 23  m   175.3  97.0  79.0  51.5  36.5 37.5 24.5  34.4   17.0  71.8  \n",
       "3 28  m   193.5  97.5  83.2  57.3  37.0 37.3 21.9  33.4   16.9  80.7  \n",
       "4 23  m   186.5  97.0  77.8  53.0  37.0 34.8 23.0  31.0   16.6  72.6  \n",
       "5 22  m   187.2  97.5  80.0  55.4  37.7 38.6 24.4  32.0   18.0  78.8  \n",
       "6 21  m   181.5  99.9  82.5  57.5  36.6 36.1 23.5  33.0   16.9  74.8  "
      ]
     },
     "metadata": {},
     "output_type": "display_data"
    }
   ],
   "source": [
    "#View the input data\n",
    "head(input_data)"
   ]
  },
  {
   "cell_type": "code",
   "execution_count": 6,
   "id": "e8098930",
   "metadata": {
    "vscode": {
     "languageId": "r"
    }
   },
   "outputs": [
    {
     "data": {
      "text/html": [
       "<table class=\"dataframe\">\n",
       "<caption>A matrix: 11 × 7 of type dbl</caption>\n",
       "<thead>\n",
       "\t<tr><th></th><th scope=col>Min</th><th scope=col>Q1</th><th scope=col>Median</th><th scope=col>Mean</th><th scope=col>Q3</th><th scope=col>Max</th><th scope=col>SD</th></tr>\n",
       "</thead>\n",
       "<tbody>\n",
       "\t<tr><th scope=row>Age</th><td> 18.0</td><td> 22.000</td><td> 25.00</td><td> 26.896</td><td> 31.250</td><td> 40.0</td><td> 5.849</td></tr>\n",
       "\t<tr><th scope=row>Height</th><td>147.2</td><td>163.200</td><td>170.20</td><td>170.880</td><td>177.800</td><td>198.1</td><td> 9.398</td></tr>\n",
       "\t<tr><th scope=row>Chest</th><td> 72.6</td><td> 84.775</td><td> 90.95</td><td> 92.221</td><td> 99.825</td><td>116.7</td><td> 9.600</td></tr>\n",
       "\t<tr><th scope=row>Belly</th><td> 57.9</td><td> 67.500</td><td> 74.10</td><td> 75.283</td><td> 82.000</td><td>113.2</td><td> 9.904</td></tr>\n",
       "\t<tr><th scope=row>Thigh</th><td> 46.3</td><td> 53.700</td><td> 56.30</td><td> 56.822</td><td> 59.500</td><td> 75.7</td><td> 4.431</td></tr>\n",
       "\t<tr><th scope=row>Knee</th><td> 29.0</td><td> 34.300</td><td> 35.90</td><td> 36.005</td><td> 37.700</td><td> 45.7</td><td> 2.544</td></tr>\n",
       "\t<tr><th scope=row>Calf</th><td> 28.4</td><td> 34.000</td><td> 35.80</td><td> 35.880</td><td> 37.700</td><td> 45.0</td><td> 2.756</td></tr>\n",
       "\t<tr><th scope=row>Ankle</th><td> 16.4</td><td> 20.900</td><td> 21.90</td><td> 22.025</td><td> 23.100</td><td> 29.3</td><td> 1.847</td></tr>\n",
       "\t<tr><th scope=row>Biceps</th><td> 22.4</td><td> 27.275</td><td> 30.35</td><td> 30.828</td><td> 34.125</td><td> 42.4</td><td> 4.267</td></tr>\n",
       "\t<tr><th scope=row>Wrist</th><td> 13.0</td><td> 14.875</td><td> 15.90</td><td> 15.967</td><td> 17.000</td><td> 19.6</td><td> 1.351</td></tr>\n",
       "\t<tr><th scope=row>Weight</th><td> 42.0</td><td> 57.300</td><td> 66.80</td><td> 67.822</td><td> 75.625</td><td>105.2</td><td>12.739</td></tr>\n",
       "</tbody>\n",
       "</table>\n"
      ],
      "text/latex": [
       "A matrix: 11 × 7 of type dbl\n",
       "\\begin{tabular}{r|lllllll}\n",
       "  & Min & Q1 & Median & Mean & Q3 & Max & SD\\\\\n",
       "\\hline\n",
       "\tAge &  18.0 &  22.000 &  25.00 &  26.896 &  31.250 &  40.0 &  5.849\\\\\n",
       "\tHeight & 147.2 & 163.200 & 170.20 & 170.880 & 177.800 & 198.1 &  9.398\\\\\n",
       "\tChest &  72.6 &  84.775 &  90.95 &  92.221 &  99.825 & 116.7 &  9.600\\\\\n",
       "\tBelly &  57.9 &  67.500 &  74.10 &  75.283 &  82.000 & 113.2 &  9.904\\\\\n",
       "\tThigh &  46.3 &  53.700 &  56.30 &  56.822 &  59.500 &  75.7 &  4.431\\\\\n",
       "\tKnee &  29.0 &  34.300 &  35.90 &  36.005 &  37.700 &  45.7 &  2.544\\\\\n",
       "\tCalf &  28.4 &  34.000 &  35.80 &  35.880 &  37.700 &  45.0 &  2.756\\\\\n",
       "\tAnkle &  16.4 &  20.900 &  21.90 &  22.025 &  23.100 &  29.3 &  1.847\\\\\n",
       "\tBiceps &  22.4 &  27.275 &  30.35 &  30.828 &  34.125 &  42.4 &  4.267\\\\\n",
       "\tWrist &  13.0 &  14.875 &  15.90 &  15.967 &  17.000 &  19.6 &  1.351\\\\\n",
       "\tWeight &  42.0 &  57.300 &  66.80 &  67.822 &  75.625 & 105.2 & 12.739\\\\\n",
       "\\end{tabular}\n"
      ],
      "text/markdown": [
       "\n",
       "A matrix: 11 × 7 of type dbl\n",
       "\n",
       "| <!--/--> | Min | Q1 | Median | Mean | Q3 | Max | SD |\n",
       "|---|---|---|---|---|---|---|---|\n",
       "| Age |  18.0 |  22.000 |  25.00 |  26.896 |  31.250 |  40.0 |  5.849 |\n",
       "| Height | 147.2 | 163.200 | 170.20 | 170.880 | 177.800 | 198.1 |  9.398 |\n",
       "| Chest |  72.6 |  84.775 |  90.95 |  92.221 |  99.825 | 116.7 |  9.600 |\n",
       "| Belly |  57.9 |  67.500 |  74.10 |  75.283 |  82.000 | 113.2 |  9.904 |\n",
       "| Thigh |  46.3 |  53.700 |  56.30 |  56.822 |  59.500 |  75.7 |  4.431 |\n",
       "| Knee |  29.0 |  34.300 |  35.90 |  36.005 |  37.700 |  45.7 |  2.544 |\n",
       "| Calf |  28.4 |  34.000 |  35.80 |  35.880 |  37.700 |  45.0 |  2.756 |\n",
       "| Ankle |  16.4 |  20.900 |  21.90 |  22.025 |  23.100 |  29.3 |  1.847 |\n",
       "| Biceps |  22.4 |  27.275 |  30.35 |  30.828 |  34.125 |  42.4 |  4.267 |\n",
       "| Wrist |  13.0 |  14.875 |  15.90 |  15.967 |  17.000 |  19.6 |  1.351 |\n",
       "| Weight |  42.0 |  57.300 |  66.80 |  67.822 |  75.625 | 105.2 | 12.739 |\n",
       "\n"
      ],
      "text/plain": [
       "       Min   Q1      Median Mean    Q3      Max   SD    \n",
       "Age     18.0  22.000  25.00  26.896  31.250  40.0  5.849\n",
       "Height 147.2 163.200 170.20 170.880 177.800 198.1  9.398\n",
       "Chest   72.6  84.775  90.95  92.221  99.825 116.7  9.600\n",
       "Belly   57.9  67.500  74.10  75.283  82.000 113.2  9.904\n",
       "Thigh   46.3  53.700  56.30  56.822  59.500  75.7  4.431\n",
       "Knee    29.0  34.300  35.90  36.005  37.700  45.7  2.544\n",
       "Calf    28.4  34.000  35.80  35.880  37.700  45.0  2.756\n",
       "Ankle   16.4  20.900  21.90  22.025  23.100  29.3  1.847\n",
       "Biceps  22.4  27.275  30.35  30.828  34.125  42.4  4.267\n",
       "Wrist   13.0  14.875  15.90  15.967  17.000  19.6  1.351\n",
       "Weight  42.0  57.300  66.80  67.822  75.625 105.2 12.739"
      ]
     },
     "metadata": {},
     "output_type": "display_data"
    }
   ],
   "source": [
    "#Summarise all continous variables\n",
    "standard_deviations <- rbind.data.frame(lapply(input_data  %>% dplyr::select(-Sex),sd))\n",
    "summary_table  <- rbind.data.frame(lapply(input_data  %>% dplyr::select(-Sex),summary))\n",
    "summary_table  <-  rbind(summary_table, standard_deviations)\n",
    "row.names(summary_table) <- c(\"Min\", \"Q1\", \"Median\", \"Mean\", \"Q3\", \"Max\", \"SD\")\n",
    "summary_table  <- t(round(summary_table,3))\n",
    "summary_table"
   ]
  },
  {
   "cell_type": "code",
   "execution_count": 7,
   "id": "92faa38c",
   "metadata": {
    "vscode": {
     "languageId": "r"
    }
   },
   "outputs": [
    {
     "data": {
      "image/png": "[encoded data removed]",
      "text/plain": [
       "plot without title"
      ]
     },
     "metadata": {
      "image/png": {
       "height": 420,
       "width": 420
      }
     },
     "output_type": "display_data"
    }
   ],
   "source": [
    "#Histogram to see the frequency distribution of the variable Height \n",
    "ggplot(input_data, aes(x=Height))+ \n",
    "  geom_histogram(color=\"black\", fill=\"#0002AF\", alpha = 0.4, bins = 25)+\n",
    "  xlab(\"Height in cm\") + ylab(\"Frequency\") +\n",
    "  theme(axis.text=element_text(size=12), axis.title=element_text(size=14 , face = \"bold\"))"
   ]
  },
  {
   "cell_type": "code",
   "execution_count": 8,
   "id": "57cebec5",
   "metadata": {
    "vscode": {
     "languageId": "r"
    }
   },
   "outputs": [
    {
     "data": {
      "image/png": "[encoded data removed]",
      "text/plain": [
       "plot without title"
      ]
     },
     "metadata": {
      "image/png": {
       "height": 420,
       "width": 420
      }
     },
     "output_type": "display_data"
    }
   ],
   "source": [
    "#Correlation scatter plot for height vs all variables\n",
    "input_corr <- input_data  %>% dplyr::select(-Sex) %>% \n",
    "              tidyr::gather(key = \"Covariates\", value = \"value\",-Height)\n",
    "\n",
    "corr_plot  <- ggplot(input_corr, aes(x = Height, y = value, col = Covariates)) +\n",
    "  geom_point(size = 0.3) +\n",
    "      facet_wrap(~Covariates, scales = \"free\") + \n",
    "      xlab(\"Height in cm\") + ylab(\"Value in cm\")  + \n",
    "      theme(axis.text=element_text(size=6), \n",
    "            axis.title=element_text(size=10 , face = \"bold\"),\n",
    "            legend.title = element_text(size=12),\n",
    "            legend.text = element_text(size=10),\n",
    "            legend.position = \"top\",\n",
    "            legend.direction = \"horizontal\"\n",
    "           )\n",
    "corr_plot"
   ]
  },
  {
   "cell_type": "code",
   "execution_count": 9,
   "id": "61c18971",
   "metadata": {
    "vscode": {
     "languageId": "r"
    }
   },
   "outputs": [
    {
     "data": {
      "text/plain": [
       "\n",
       "Call:\n",
       "lm(formula = Height ~ ., data = input_data)\n",
       "\n",
       "Residuals:\n",
       "     Min       1Q   Median       3Q      Max \n",
       "-13.9956  -2.5388   0.1734   2.7092  14.0613 \n",
       "\n",
       "Coefficients:\n",
       "             Estimate Std. Error t value Pr(>|t|)    \n",
       "(Intercept) 211.23128    6.96030  30.348  < 2e-16 ***\n",
       "Age           0.01769    0.03802   0.465   0.6420    \n",
       "Sexm          6.38037    0.98056   6.507 2.23e-10 ***\n",
       "Chest        -0.14534    0.06964  -2.087   0.0375 *  \n",
       "Belly        -0.67402    0.05946 -11.335  < 2e-16 ***\n",
       "Thigh        -0.58815    0.10001  -5.881 8.45e-09 ***\n",
       "Knee          0.09616    0.17084   0.563   0.5738    \n",
       "Calf         -0.67324    0.14570  -4.621 5.12e-06 ***\n",
       "Ankle         0.10198    0.20798   0.490   0.6242    \n",
       "Biceps       -1.01355    0.15004  -6.755 4.88e-11 ***\n",
       "Wrist         0.52087    0.39333   1.324   0.1861    \n",
       "Weight        1.40384    0.06858  20.469  < 2e-16 ***\n",
       "---\n",
       "Signif. codes:  0 '***' 0.001 '**' 0.01 '*' 0.05 '.' 0.1 ' ' 1\n",
       "\n",
       "Residual standard error: 4.249 on 412 degrees of freedom\n",
       "Multiple R-squared:  0.8009,\tAdjusted R-squared:  0.7956 \n",
       "F-statistic: 150.6 on 11 and 412 DF,  p-value: < 2.2e-16\n"
      ]
     },
     "metadata": {},
     "output_type": "display_data"
    }
   ],
   "source": [
    "#Linear regression model\n",
    "full_model  <-  lm(Height ~ ., data = input_data)\n",
    "summary(full_model)"
   ]
  },
  {
   "cell_type": "code",
   "execution_count": 10,
   "id": "681f61d0",
   "metadata": {
    "vscode": {
     "languageId": "r"
    }
   },
   "outputs": [],
   "source": [
    "#Finding the best subsets using least squares estimator\n",
    "best_subsets  <- ols_step_best_subset(full_model)"
   ]
  },
  {
   "cell_type": "code",
   "execution_count": 11,
   "id": "ba4afd56",
   "metadata": {
    "vscode": {
     "languageId": "r"
    }
   },
   "outputs": [
    {
     "data": {
      "text/html": [
       "<table class=\"dataframe\">\n",
       "<caption>A ols_step_best_subset: 11 × 5</caption>\n",
       "<thead>\n",
       "\t<tr><th></th><th scope=col>Model</th><th scope=col>Covariates</th><th scope=col>Adj.Rsquared</th><th scope=col>AIC</th><th scope=col>BIC</th></tr>\n",
       "\t<tr><th></th><th scope=col>&lt;int&gt;</th><th scope=col>&lt;chr&gt;</th><th scope=col>&lt;dbl&gt;</th><th scope=col>&lt;dbl&gt;</th><th scope=col>&lt;dbl&gt;</th></tr>\n",
       "</thead>\n",
       "<tbody>\n",
       "\t<tr><th scope=row>11</th><td> 1</td><td>Weight                                                       </td><td>0.5272616</td><td>2789.499</td><td>2801.648</td></tr>\n",
       "\t<tr><th scope=row>51</th><td> 2</td><td>Thigh Weight                                                 </td><td>0.6630077</td><td>2646.977</td><td>2663.176</td></tr>\n",
       "\t<tr><th scope=row>181</th><td> 3</td><td>Belly Thigh Weight                                           </td><td>0.7422729</td><td>2534.269</td><td>2554.518</td></tr>\n",
       "\t<tr><th scope=row>505</th><td> 4</td><td>Belly Thigh Biceps Weight                                    </td><td>0.7652275</td><td>2495.706</td><td>2520.004</td></tr>\n",
       "\t<tr><th scope=row>841</th><td> 5</td><td>Sex Belly Thigh Biceps Weight                                </td><td>0.7860804</td><td>2457.254</td><td>2485.602</td></tr>\n",
       "\t<tr><th scope=row>1360</th><td> 6</td><td>Sex Belly Thigh Calf Biceps Weight                           </td><td>0.7940634</td><td>2442.113</td><td>2474.511</td></tr>\n",
       "\t<tr><th scope=row>1710</th><td> 7</td><td>Sex Chest Belly Thigh Calf Biceps Weight                     </td><td>0.7956268</td><td>2439.864</td><td>2476.311</td></tr>\n",
       "\t<tr><th scope=row>1949</th><td> 8</td><td>Sex Chest Belly Thigh Calf Biceps Wrist Weight               </td><td>0.7965996</td><td>2438.820</td><td>2479.317</td></tr>\n",
       "\t<tr><th scope=row>2029</th><td> 9</td><td>Sex Chest Belly Thigh Knee Calf Biceps Wrist Weight          </td><td>0.7963231</td><td>2440.373</td><td>2484.920</td></tr>\n",
       "\t<tr><th scope=row>2046</th><td>10</td><td>Sex Chest Belly Thigh Knee Calf Ankle Biceps Wrist Weight    </td><td>0.7959514</td><td>2442.121</td><td>2490.718</td></tr>\n",
       "\t<tr><th scope=row>2047</th><td>11</td><td>Age Sex Chest Belly Thigh Knee Calf Ankle Biceps Wrist Weight</td><td>0.7955636</td><td>2443.898</td><td>2496.545</td></tr>\n",
       "</tbody>\n",
       "</table>\n"
      ],
      "text/latex": [
       "A ols\\_step\\_best\\_subset: 11 × 5\n",
       "\\begin{tabular}{r|lllll}\n",
       "  & Model & Covariates & Adj.Rsquared & AIC & BIC\\\\\n",
       "  & <int> & <chr> & <dbl> & <dbl> & <dbl>\\\\\n",
       "\\hline\n",
       "\t11 &  1 & Weight                                                        & 0.5272616 & 2789.499 & 2801.648\\\\\n",
       "\t51 &  2 & Thigh Weight                                                  & 0.6630077 & 2646.977 & 2663.176\\\\\n",
       "\t181 &  3 & Belly Thigh Weight                                            & 0.7422729 & 2534.269 & 2554.518\\\\\n",
       "\t505 &  4 & Belly Thigh Biceps Weight                                     & 0.7652275 & 2495.706 & 2520.004\\\\\n",
       "\t841 &  5 & Sex Belly Thigh Biceps Weight                                 & 0.7860804 & 2457.254 & 2485.602\\\\\n",
       "\t1360 &  6 & Sex Belly Thigh Calf Biceps Weight                            & 0.7940634 & 2442.113 & 2474.511\\\\\n",
       "\t1710 &  7 & Sex Chest Belly Thigh Calf Biceps Weight                      & 0.7956268 & 2439.864 & 2476.311\\\\\n",
       "\t1949 &  8 & Sex Chest Belly Thigh Calf Biceps Wrist Weight                & 0.7965996 & 2438.820 & 2479.317\\\\\n",
       "\t2029 &  9 & Sex Chest Belly Thigh Knee Calf Biceps Wrist Weight           & 0.7963231 & 2440.373 & 2484.920\\\\\n",
       "\t2046 & 10 & Sex Chest Belly Thigh Knee Calf Ankle Biceps Wrist Weight     & 0.7959514 & 2442.121 & 2490.718\\\\\n",
       "\t2047 & 11 & Age Sex Chest Belly Thigh Knee Calf Ankle Biceps Wrist Weight & 0.7955636 & 2443.898 & 2496.545\\\\\n",
       "\\end{tabular}\n"
      ],
      "text/markdown": [
       "\n",
       "A ols_step_best_subset: 11 × 5\n",
       "\n",
       "| <!--/--> | Model &lt;int&gt; | Covariates &lt;chr&gt; | Adj.Rsquared &lt;dbl&gt; | AIC &lt;dbl&gt; | BIC &lt;dbl&gt; |\n",
       "|---|---|---|---|---|---|\n",
       "| 11 |  1 | Weight                                                        | 0.5272616 | 2789.499 | 2801.648 |\n",
       "| 51 |  2 | Thigh Weight                                                  | 0.6630077 | 2646.977 | 2663.176 |\n",
       "| 181 |  3 | Belly Thigh Weight                                            | 0.7422729 | 2534.269 | 2554.518 |\n",
       "| 505 |  4 | Belly Thigh Biceps Weight                                     | 0.7652275 | 2495.706 | 2520.004 |\n",
       "| 841 |  5 | Sex Belly Thigh Biceps Weight                                 | 0.7860804 | 2457.254 | 2485.602 |\n",
       "| 1360 |  6 | Sex Belly Thigh Calf Biceps Weight                            | 0.7940634 | 2442.113 | 2474.511 |\n",
       "| 1710 |  7 | Sex Chest Belly Thigh Calf Biceps Weight                      | 0.7956268 | 2439.864 | 2476.311 |\n",
       "| 1949 |  8 | Sex Chest Belly Thigh Calf Biceps Wrist Weight                | 0.7965996 | 2438.820 | 2479.317 |\n",
       "| 2029 |  9 | Sex Chest Belly Thigh Knee Calf Biceps Wrist Weight           | 0.7963231 | 2440.373 | 2484.920 |\n",
       "| 2046 | 10 | Sex Chest Belly Thigh Knee Calf Ankle Biceps Wrist Weight     | 0.7959514 | 2442.121 | 2490.718 |\n",
       "| 2047 | 11 | Age Sex Chest Belly Thigh Knee Calf Ankle Biceps Wrist Weight | 0.7955636 | 2443.898 | 2496.545 |\n",
       "\n"
      ],
      "text/plain": [
       "     Model Covariates                                                   \n",
       "11    1    Weight                                                       \n",
       "51    2    Thigh Weight                                                 \n",
       "181   3    Belly Thigh Weight                                           \n",
       "505   4    Belly Thigh Biceps Weight                                    \n",
       "841   5    Sex Belly Thigh Biceps Weight                                \n",
       "1360  6    Sex Belly Thigh Calf Biceps Weight                           \n",
       "1710  7    Sex Chest Belly Thigh Calf Biceps Weight                     \n",
       "1949  8    Sex Chest Belly Thigh Calf Biceps Wrist Weight               \n",
       "2029  9    Sex Chest Belly Thigh Knee Calf Biceps Wrist Weight          \n",
       "2046 10    Sex Chest Belly Thigh Knee Calf Ankle Biceps Wrist Weight    \n",
       "2047 11    Age Sex Chest Belly Thigh Knee Calf Ankle Biceps Wrist Weight\n",
       "     Adj.Rsquared AIC      BIC     \n",
       "11   0.5272616    2789.499 2801.648\n",
       "51   0.6630077    2646.977 2663.176\n",
       "181  0.7422729    2534.269 2554.518\n",
       "505  0.7652275    2495.706 2520.004\n",
       "841  0.7860804    2457.254 2485.602\n",
       "1360 0.7940634    2442.113 2474.511\n",
       "1710 0.7956268    2439.864 2476.311\n",
       "1949 0.7965996    2438.820 2479.317\n",
       "2029 0.7963231    2440.373 2484.920\n",
       "2046 0.7959514    2442.121 2490.718\n",
       "2047 0.7955636    2443.898 2496.545"
      ]
     },
     "metadata": {},
     "output_type": "display_data"
    }
   ],
   "source": [
    "#Listing the best subsets\n",
    "best_subsets  <- best_subsets  %>% mutate(Model = mindex, Number_of_covariates = n,\n",
    "                         Covariates = predictors, Rsquared = rsquare, Adj.Rsquared = adjr,\n",
    "                         AIC = aic, BIC = sbc)  %>% \n",
    "                  select(Model, Covariates, Adj.Rsquared, AIC, BIC)                  \n",
    "best_subsets"
   ]
  },
  {
   "cell_type": "code",
   "execution_count": 12,
   "id": "4a28629c",
   "metadata": {
    "vscode": {
     "languageId": "r"
    }
   },
   "outputs": [
    {
     "data": {
      "text/html": [
       "<table class=\"dataframe\">\n",
       "<caption>A ols_step_best_subset: 1 × 5</caption>\n",
       "<thead>\n",
       "\t<tr><th scope=col>Model</th><th scope=col>Covariates</th><th scope=col>Adj.Rsquared</th><th scope=col>AIC</th><th scope=col>BIC</th></tr>\n",
       "\t<tr><th scope=col>&lt;int&gt;</th><th scope=col>&lt;chr&gt;</th><th scope=col>&lt;dbl&gt;</th><th scope=col>&lt;dbl&gt;</th><th scope=col>&lt;dbl&gt;</th></tr>\n",
       "</thead>\n",
       "<tbody>\n",
       "\t<tr><td>8</td><td>Sex Chest Belly Thigh Calf Biceps Wrist Weight</td><td>0.7965996</td><td>2438.82</td><td>2479.317</td></tr>\n",
       "</tbody>\n",
       "</table>\n"
      ],
      "text/latex": [
       "A ols\\_step\\_best\\_subset: 1 × 5\n",
       "\\begin{tabular}{lllll}\n",
       " Model & Covariates & Adj.Rsquared & AIC & BIC\\\\\n",
       " <int> & <chr> & <dbl> & <dbl> & <dbl>\\\\\n",
       "\\hline\n",
       "\t 8 & Sex Chest Belly Thigh Calf Biceps Wrist Weight & 0.7965996 & 2438.82 & 2479.317\\\\\n",
       "\\end{tabular}\n"
      ],
      "text/markdown": [
       "\n",
       "A ols_step_best_subset: 1 × 5\n",
       "\n",
       "| Model &lt;int&gt; | Covariates &lt;chr&gt; | Adj.Rsquared &lt;dbl&gt; | AIC &lt;dbl&gt; | BIC &lt;dbl&gt; |\n",
       "|---|---|---|---|---|\n",
       "| 8 | Sex Chest Belly Thigh Calf Biceps Wrist Weight | 0.7965996 | 2438.82 | 2479.317 |\n",
       "\n"
      ],
      "text/plain": [
       "  Model Covariates                                     Adj.Rsquared AIC    \n",
       "1 8     Sex Chest Belly Thigh Calf Biceps Wrist Weight 0.7965996    2438.82\n",
       "  BIC     \n",
       "1 2479.317"
      ]
     },
     "metadata": {},
     "output_type": "display_data"
    }
   ],
   "source": [
    "#best_subset using AIC\n",
    "best_subsets  %>% filter(AIC == min(best_subsets$AIC))"
   ]
  },
  {
   "cell_type": "code",
   "execution_count": 13,
   "id": "edc2fd43",
   "metadata": {
    "vscode": {
     "languageId": "r"
    }
   },
   "outputs": [
    {
     "data": {
      "text/html": [
       "<table class=\"dataframe\">\n",
       "<caption>A ols_step_best_subset: 1 × 5</caption>\n",
       "<thead>\n",
       "\t<tr><th scope=col>Model</th><th scope=col>Covariates</th><th scope=col>Adj.Rsquared</th><th scope=col>AIC</th><th scope=col>BIC</th></tr>\n",
       "\t<tr><th scope=col>&lt;int&gt;</th><th scope=col>&lt;chr&gt;</th><th scope=col>&lt;dbl&gt;</th><th scope=col>&lt;dbl&gt;</th><th scope=col>&lt;dbl&gt;</th></tr>\n",
       "</thead>\n",
       "<tbody>\n",
       "\t<tr><td>6</td><td>Sex Belly Thigh Calf Biceps Weight</td><td>0.7940634</td><td>2442.113</td><td>2474.511</td></tr>\n",
       "</tbody>\n",
       "</table>\n"
      ],
      "text/latex": [
       "A ols\\_step\\_best\\_subset: 1 × 5\n",
       "\\begin{tabular}{lllll}\n",
       " Model & Covariates & Adj.Rsquared & AIC & BIC\\\\\n",
       " <int> & <chr> & <dbl> & <dbl> & <dbl>\\\\\n",
       "\\hline\n",
       "\t 6 & Sex Belly Thigh Calf Biceps Weight & 0.7940634 & 2442.113 & 2474.511\\\\\n",
       "\\end{tabular}\n"
      ],
      "text/markdown": [
       "\n",
       "A ols_step_best_subset: 1 × 5\n",
       "\n",
       "| Model &lt;int&gt; | Covariates &lt;chr&gt; | Adj.Rsquared &lt;dbl&gt; | AIC &lt;dbl&gt; | BIC &lt;dbl&gt; |\n",
       "|---|---|---|---|---|\n",
       "| 6 | Sex Belly Thigh Calf Biceps Weight | 0.7940634 | 2442.113 | 2474.511 |\n",
       "\n"
      ],
      "text/plain": [
       "  Model Covariates                         Adj.Rsquared AIC      BIC     \n",
       "1 6     Sex Belly Thigh Calf Biceps Weight 0.7940634    2442.113 2474.511"
      ]
     },
     "metadata": {},
     "output_type": "display_data"
    }
   ],
   "source": [
    "#best_subset using BIC\n",
    "best_subsets  %>% filter(BIC == min(best_subsets$BIC))"
   ]
  },
  {
   "cell_type": "code",
   "execution_count": 14,
   "id": "f641b643",
   "metadata": {
    "vscode": {
     "languageId": "r"
    }
   },
   "outputs": [
    {
     "data": {
      "text/plain": [
       "\n",
       "Call:\n",
       "lm(formula = Height ~ Sex + Belly + Thigh + Calf + Biceps + Weight, \n",
       "    data = input_data)\n",
       "\n",
       "Residuals:\n",
       "     Min       1Q   Median       3Q      Max \n",
       "-15.0336  -2.5824   0.1241   2.6957  14.0164 \n",
       "\n",
       "Coefficients:\n",
       "             Estimate Std. Error t value Pr(>|t|)    \n",
       "(Intercept) 213.72083    4.33769  49.271  < 2e-16 ***\n",
       "Sexm          6.60926    0.94766   6.974 1.21e-11 ***\n",
       "Belly        -0.72749    0.05296 -13.737  < 2e-16 ***\n",
       "Thigh        -0.59827    0.09257  -6.463 2.87e-10 ***\n",
       "Calf         -0.52786    0.12726  -4.148 4.07e-05 ***\n",
       "Biceps       -1.10825    0.11774  -9.413  < 2e-16 ***\n",
       "Weight        1.41574    0.05788  24.461  < 2e-16 ***\n",
       "---\n",
       "Signif. codes:  0 '***' 0.001 '**' 0.01 '*' 0.05 '.' 0.1 ' ' 1\n",
       "\n",
       "Residual standard error: 4.265 on 417 degrees of freedom\n",
       "Multiple R-squared:  0.797,\tAdjusted R-squared:  0.7941 \n",
       "F-statistic: 272.8 on 6 and 417 DF,  p-value: < 2.2e-16\n"
      ]
     },
     "metadata": {},
     "output_type": "display_data"
    }
   ],
   "source": [
    "# Fitting the model, based on the based subset selection using BIC\n",
    "best_subset_model  <- lm(Height ~ Sex + Belly + Thigh + Calf + Biceps + Weight, data = input_data)\n",
    "summary(best_subset_model)"
   ]
  },
  {
   "cell_type": "code",
   "execution_count": 15,
   "id": "bb1408eb",
   "metadata": {
    "vscode": {
     "languageId": "r"
    }
   },
   "outputs": [
    {
     "name": "stderr",
     "output_type": "stream",
     "text": [
      "Warning message:\n",
      "\"Ignoring unknown parameters: linewidth\"\n"
     ]
    },
    {
     "data": {
      "image/png": "[encoded data removed]",
      "text/plain": [
       "plot without title"
      ]
     },
     "metadata": {
      "image/png": {
       "height": 420,
       "width": 420
      }
     },
     "output_type": "display_data"
    }
   ],
   "source": [
    "#Residual plot for standardized residuals vs Fitted best subset model\n",
    "ggplot(best_subset_model, aes(x = .fitted, y = best_subset_model$residuals)) +\n",
    "  geom_point(size = 1.5, color = \"#0002AF\", alpha = 0.7) +\n",
    "  geom_hline(yintercept = mean(best_subset_model$residuals), color = \"black\", linewidth = 0.5) + xlab(\"Fitted values\") + ylab(\"Residuals\") +\n",
    "      theme(axis.text=element_text(size=12), axis.title=element_text(size=14 , face = \"bold\"))"
   ]
  },
  {
   "cell_type": "code",
   "execution_count": 16,
   "id": "7cf27c20",
   "metadata": {
    "vscode": {
     "languageId": "r"
    }
   },
   "outputs": [
    {
     "data": {
      "image/png": "[encoded data removed]",
      "text/plain": [
       "plot without title"
      ]
     },
     "metadata": {
      "image/png": {
       "height": 420,
       "width": 420
      }
     },
     "output_type": "display_data"
    }
   ],
   "source": [
    "# QQ plot for the standardized residuals\n",
    "ggplot(input_data, aes(sample = best_subset_model$residuals)) +\n",
    "       stat_qq(distribution = stats::qnorm, color = \"#0002AF\", alpha = 0.5) +\n",
    "       stat_qq_line() + \n",
    "       xlab(\"Theoretical Quantiles\") + \n",
    "       ylab(\"Sample Quantiles\") + \n",
    "          theme(plot.title = element_text(face = \"bold\",hjust = 0.5, size = 12), \n",
    "                axis.text=element_text(size=12),\n",
    "                axis.title=element_text(size=14, face = \"bold\"), \n",
    "                legend.text = element_text(size = 12))"
   ]
  },
  {
   "cell_type": "code",
   "execution_count": 17,
   "id": "32574da6",
   "metadata": {
    "vscode": {
     "languageId": "r"
    }
   },
   "outputs": [],
   "source": [
    "#Extracting the coefficient values and p-values\n",
    "coefficient_values  <- t(rbind(round(best_subset_model$coefficients,3)))\n",
    "p_values  <- t(rbind(round(summary(best_subset_model)$coefficients[ , 4],10)))"
   ]
  },
  {
   "cell_type": "code",
   "execution_count": 18,
   "id": "017ae807",
   "metadata": {
    "vscode": {
     "languageId": "r"
    }
   },
   "outputs": [],
   "source": [
    "#Finding the confidence intervals for the estimated coefficients\n",
    "conf_intervals  <- as.data.frame(round(confint(best_subset_model, level = 0.95),3))\n",
    "colnames(conf_intervals)  <- c(\"lower\",\"upper\")\n",
    "conf_intervals['Confidence_interval']  <- paste0(\"[\",conf_intervals$lower,\" , \", conf_intervals$upper, \"]\")\n",
    "conf_intervals  <- conf_intervals  %>% select(Confidence_interval)"
   ]
  },
  {
   "cell_type": "code",
   "execution_count": 19,
   "id": "37339e59",
   "metadata": {
    "vscode": {
     "languageId": "r"
    }
   },
   "outputs": [
    {
     "data": {
      "text/html": [
       "<table class=\"dataframe\">\n",
       "<caption>A data.frame: 7 × 3</caption>\n",
       "<thead>\n",
       "\t<tr><th></th><th scope=col>Estimated coefficients</th><th scope=col>Confidence intervals</th><th scope=col>P_values</th></tr>\n",
       "\t<tr><th></th><th scope=col>&lt;dbl&gt;</th><th scope=col>&lt;chr&gt;</th><th scope=col>&lt;dbl&gt;</th></tr>\n",
       "</thead>\n",
       "<tbody>\n",
       "\t<tr><th scope=row>(Intercept)</th><td>213.721</td><td>[205.194 , 222.247]</td><td>0.00000e+00</td></tr>\n",
       "\t<tr><th scope=row>Sexm</th><td>  6.609</td><td>[4.746 , 8.472]    </td><td>0.00000e+00</td></tr>\n",
       "\t<tr><th scope=row>Belly</th><td> -0.727</td><td>[-0.832 , -0.623]  </td><td>0.00000e+00</td></tr>\n",
       "\t<tr><th scope=row>Thigh</th><td> -0.598</td><td>[-0.78 , -0.416]   </td><td>3.00000e-10</td></tr>\n",
       "\t<tr><th scope=row>Calf</th><td> -0.528</td><td>[-0.778 , -0.278]  </td><td>4.07118e-05</td></tr>\n",
       "\t<tr><th scope=row>Biceps</th><td> -1.108</td><td>[-1.34 , -0.877]   </td><td>0.00000e+00</td></tr>\n",
       "\t<tr><th scope=row>Weight</th><td>  1.416</td><td>[1.302 , 1.53]     </td><td>0.00000e+00</td></tr>\n",
       "</tbody>\n",
       "</table>\n"
      ],
      "text/latex": [
       "A data.frame: 7 × 3\n",
       "\\begin{tabular}{r|lll}\n",
       "  & Estimated coefficients & Confidence intervals & P\\_values\\\\\n",
       "  & <dbl> & <chr> & <dbl>\\\\\n",
       "\\hline\n",
       "\t(Intercept) & 213.721 & {[}205.194 , 222.247{]} & 0.00000e+00\\\\\n",
       "\tSexm &   6.609 & {[}4.746 , 8.472{]}     & 0.00000e+00\\\\\n",
       "\tBelly &  -0.727 & {[}-0.832 , -0.623{]}   & 0.00000e+00\\\\\n",
       "\tThigh &  -0.598 & {[}-0.78 , -0.416{]}    & 3.00000e-10\\\\\n",
       "\tCalf &  -0.528 & {[}-0.778 , -0.278{]}   & 4.07118e-05\\\\\n",
       "\tBiceps &  -1.108 & {[}-1.34 , -0.877{]}    & 0.00000e+00\\\\\n",
       "\tWeight &   1.416 & {[}1.302 , 1.53{]}      & 0.00000e+00\\\\\n",
       "\\end{tabular}\n"
      ],
      "text/markdown": [
       "\n",
       "A data.frame: 7 × 3\n",
       "\n",
       "| <!--/--> | Estimated coefficients &lt;dbl&gt; | Confidence intervals &lt;chr&gt; | P_values &lt;dbl&gt; |\n",
       "|---|---|---|---|\n",
       "| (Intercept) | 213.721 | [205.194 , 222.247] | 0.00000e+00 |\n",
       "| Sexm |   6.609 | [4.746 , 8.472]     | 0.00000e+00 |\n",
       "| Belly |  -0.727 | [-0.832 , -0.623]   | 0.00000e+00 |\n",
       "| Thigh |  -0.598 | [-0.78 , -0.416]    | 3.00000e-10 |\n",
       "| Calf |  -0.528 | [-0.778 , -0.278]   | 4.07118e-05 |\n",
       "| Biceps |  -1.108 | [-1.34 , -0.877]    | 0.00000e+00 |\n",
       "| Weight |   1.416 | [1.302 , 1.53]      | 0.00000e+00 |\n",
       "\n"
      ],
      "text/plain": [
       "            Estimated coefficients Confidence intervals P_values   \n",
       "(Intercept) 213.721                [205.194 , 222.247]  0.00000e+00\n",
       "Sexm          6.609                [4.746 , 8.472]      0.00000e+00\n",
       "Belly        -0.727                [-0.832 , -0.623]    0.00000e+00\n",
       "Thigh        -0.598                [-0.78 , -0.416]     3.00000e-10\n",
       "Calf         -0.528                [-0.778 , -0.278]    4.07118e-05\n",
       "Biceps       -1.108                [-1.34 , -0.877]     0.00000e+00\n",
       "Weight        1.416                [1.302 , 1.53]       0.00000e+00"
      ]
     },
     "metadata": {},
     "output_type": "display_data"
    }
   ],
   "source": [
    "#Displaying the output\n",
    "parameters  <- cbind(coefficient_values, conf_intervals, p_values)\n",
    "colnames(parameters)  <- c(\"Estimated coefficients\", \"Confidence intervals\", \"P_values\")\n",
    "parameters"
   ]
  }
 ],
 "metadata": {
  "kernelspec": {
   "display_name": "R",
   "language": "R",
   "name": "ir"
  },
  "language_info": {
   "codemirror_mode": "r",
   "file_extension": ".r",
   "mimetype": "text/x-r-source",
   "name": "R",
   "pygments_lexer": "r",
   "version": "4.1.2"
  }
 },
 "nbformat": 4,
 "nbformat_minor": 5
}
