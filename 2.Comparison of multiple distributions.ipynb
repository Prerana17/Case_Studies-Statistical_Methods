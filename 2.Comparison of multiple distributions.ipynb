{
 "cells": [
  {
   "cell_type": "code",
   "execution_count": 1,
   "id": "e6b01ee9",
   "metadata": {},
   "outputs": [],
   "source": [
    "############################################################\n",
    "## Title  : 'Comparison of multiple distributions'        ##\n",
    "## Author : 'Prerana Rajeev Chandratre'                   ##\n",
    "## Date   : '08th December, 2022'                         ##\n",
    "## Output : pdf document                                  ##\n",
    "## Group  : 5                                             ##\n",
    "############################################################"
   ]
  },
  {
   "cell_type": "code",
   "execution_count": 2,
   "id": "01c9ad3e",
   "metadata": {},
   "outputs": [
    {
     "name": "stderr",
     "output_type": "stream",
     "text": [
      "Warning message:\n",
      "\"package 'ggplot2' was built under R version 4.1.3\"\n",
      "Warning message:\n",
      "\"package 'dplyr' was built under R version 4.1.3\"\n",
      "\n",
      "Attaching package: 'dplyr'\n",
      "\n",
      "\n",
      "The following objects are masked from 'package:stats':\n",
      "\n",
      "    filter, lag\n",
      "\n",
      "\n",
      "The following objects are masked from 'package:base':\n",
      "\n",
      "    intersect, setdiff, setequal, union\n",
      "\n",
      "\n",
      "\n",
      "Attaching package: 'rstatix'\n",
      "\n",
      "\n",
      "The following object is masked from 'package:stats':\n",
      "\n",
      "    filter\n",
      "\n",
      "\n"
     ]
    }
   ],
   "source": [
    "library(\"ggplot2\")\n",
    "library(\"ggpubr\")\n",
    "library(\"dplyr\")\n",
    "library(\"rstatix\")"
   ]
  },
  {
   "cell_type": "code",
   "execution_count": 3,
   "id": "42d53daf",
   "metadata": {},
   "outputs": [],
   "source": [
    "#Loading the Input data\n",
    "input_data <- read.csv('SwimmingTimes.csv')"
   ]
  },
  {
   "cell_type": "code",
   "execution_count": 4,
   "id": "5fa58bb5",
   "metadata": {},
   "outputs": [
    {
     "data": {
      "text/html": [
       "<table class=\"dataframe\">\n",
       "<caption>A data.frame: 14 × 3</caption>\n",
       "<thead>\n",
       "\t<tr><th></th><th scope=col>Category</th><th scope=col>Name</th><th scope=col>Time</th></tr>\n",
       "\t<tr><th></th><th scope=col>&lt;chr&gt;</th><th scope=col>&lt;chr&gt;</th><th scope=col>&lt;dbl&gt;</th></tr>\n",
       "</thead>\n",
       "<tbody>\n",
       "\t<tr><th scope=row>2</th><td>Backstroke  </td><td>AnastasyaGorbenko   </td><td>131.46</td></tr>\n",
       "\t<tr><th scope=row>5</th><td>Backstroke  </td><td>KatieShanahan       </td><td>129.82</td></tr>\n",
       "\t<tr><th scope=row>19</th><td>Breaststroke</td><td>KristynaHorska      </td><td>145.55</td></tr>\n",
       "\t<tr><th scope=row>24</th><td>Breaststroke</td><td>LauraLahtinen       </td><td>147.60</td></tr>\n",
       "\t<tr><th scope=row>33</th><td>Butterfly   </td><td>MireiaBelmonteGarcia</td><td>134.01</td></tr>\n",
       "\t<tr><th scope=row>34</th><td>Butterfly   </td><td>KatinkaHosszu       </td><td>134.54</td></tr>\n",
       "\t<tr><th scope=row>42</th><td>Butterfly   </td><td>LauraLahtinen       </td><td>131.41</td></tr>\n",
       "\t<tr><th scope=row>51</th><td>Freestyle   </td><td>MarritSteenbergen   </td><td>117.40</td></tr>\n",
       "\t<tr><th scope=row>67</th><td>Medley      </td><td>KatieShanahan       </td><td>131.84</td></tr>\n",
       "\t<tr><th scope=row>69</th><td>Medley      </td><td>KristynaHorska      </td><td>132.99</td></tr>\n",
       "\t<tr><th scope=row>70</th><td>Medley      </td><td>MarritSteenbergen   </td><td>132.31</td></tr>\n",
       "\t<tr><th scope=row>76</th><td>Medley      </td><td>AnastasyaGorbenko   </td><td>132.91</td></tr>\n",
       "\t<tr><th scope=row>77</th><td>Medley      </td><td>KatinkaHosszu       </td><td>132.52</td></tr>\n",
       "\t<tr><th scope=row>79</th><td>Medley      </td><td>MireiaBelmonteGarcia</td><td>135.47</td></tr>\n",
       "</tbody>\n",
       "</table>\n"
      ],
      "text/latex": [
       "A data.frame: 14 × 3\n",
       "\\begin{tabular}{r|lll}\n",
       "  & Category & Name & Time\\\\\n",
       "  & <chr> & <chr> & <dbl>\\\\\n",
       "\\hline\n",
       "\t2 & Backstroke   & AnastasyaGorbenko    & 131.46\\\\\n",
       "\t5 & Backstroke   & KatieShanahan        & 129.82\\\\\n",
       "\t19 & Breaststroke & KristynaHorska       & 145.55\\\\\n",
       "\t24 & Breaststroke & LauraLahtinen        & 147.60\\\\\n",
       "\t33 & Butterfly    & MireiaBelmonteGarcia & 134.01\\\\\n",
       "\t34 & Butterfly    & KatinkaHosszu        & 134.54\\\\\n",
       "\t42 & Butterfly    & LauraLahtinen        & 131.41\\\\\n",
       "\t51 & Freestyle    & MarritSteenbergen    & 117.40\\\\\n",
       "\t67 & Medley       & KatieShanahan        & 131.84\\\\\n",
       "\t69 & Medley       & KristynaHorska       & 132.99\\\\\n",
       "\t70 & Medley       & MarritSteenbergen    & 132.31\\\\\n",
       "\t76 & Medley       & AnastasyaGorbenko    & 132.91\\\\\n",
       "\t77 & Medley       & KatinkaHosszu        & 132.52\\\\\n",
       "\t79 & Medley       & MireiaBelmonteGarcia & 135.47\\\\\n",
       "\\end{tabular}\n"
      ],
      "text/markdown": [
       "\n",
       "A data.frame: 14 × 3\n",
       "\n",
       "| <!--/--> | Category &lt;chr&gt; | Name &lt;chr&gt; | Time &lt;dbl&gt; |\n",
       "|---|---|---|---|\n",
       "| 2 | Backstroke   | AnastasyaGorbenko    | 131.46 |\n",
       "| 5 | Backstroke   | KatieShanahan        | 129.82 |\n",
       "| 19 | Breaststroke | KristynaHorska       | 145.55 |\n",
       "| 24 | Breaststroke | LauraLahtinen        | 147.60 |\n",
       "| 33 | Butterfly    | MireiaBelmonteGarcia | 134.01 |\n",
       "| 34 | Butterfly    | KatinkaHosszu        | 134.54 |\n",
       "| 42 | Butterfly    | LauraLahtinen        | 131.41 |\n",
       "| 51 | Freestyle    | MarritSteenbergen    | 117.40 |\n",
       "| 67 | Medley       | KatieShanahan        | 131.84 |\n",
       "| 69 | Medley       | KristynaHorska       | 132.99 |\n",
       "| 70 | Medley       | MarritSteenbergen    | 132.31 |\n",
       "| 76 | Medley       | AnastasyaGorbenko    | 132.91 |\n",
       "| 77 | Medley       | KatinkaHosszu        | 132.52 |\n",
       "| 79 | Medley       | MireiaBelmonteGarcia | 135.47 |\n",
       "\n"
      ],
      "text/plain": [
       "   Category     Name                 Time  \n",
       "2  Backstroke   AnastasyaGorbenko    131.46\n",
       "5  Backstroke   KatieShanahan        129.82\n",
       "19 Breaststroke KristynaHorska       145.55\n",
       "24 Breaststroke LauraLahtinen        147.60\n",
       "33 Butterfly    MireiaBelmonteGarcia 134.01\n",
       "34 Butterfly    KatinkaHosszu        134.54\n",
       "42 Butterfly    LauraLahtinen        131.41\n",
       "51 Freestyle    MarritSteenbergen    117.40\n",
       "67 Medley       KatieShanahan        131.84\n",
       "69 Medley       KristynaHorska       132.99\n",
       "70 Medley       MarritSteenbergen    132.31\n",
       "76 Medley       AnastasyaGorbenko    132.91\n",
       "77 Medley       KatinkaHosszu        132.52\n",
       "79 Medley       MireiaBelmonteGarcia 135.47"
      ]
     },
     "metadata": {},
     "output_type": "display_data"
    }
   ],
   "source": [
    "#same participants in more than one category\n",
    "input_data[input_data$Name %in% input_data[duplicated(input_data$Name),]$Name,]"
   ]
  },
  {
   "cell_type": "code",
   "execution_count": 5,
   "id": "1abbad68",
   "metadata": {},
   "outputs": [
    {
     "data": {
      "text/html": [
       "<table class=\"dataframe\">\n",
       "<caption>A data.frame: 1 × 1</caption>\n",
       "<thead>\n",
       "\t<tr><th scope=col>n</th></tr>\n",
       "\t<tr><th scope=col>&lt;int&gt;</th></tr>\n",
       "</thead>\n",
       "<tbody>\n",
       "\t<tr><td>80</td></tr>\n",
       "</tbody>\n",
       "</table>\n"
      ],
      "text/latex": [
       "A data.frame: 1 × 1\n",
       "\\begin{tabular}{l}\n",
       " n\\\\\n",
       " <int>\\\\\n",
       "\\hline\n",
       "\t 80\\\\\n",
       "\\end{tabular}\n"
      ],
      "text/markdown": [
       "\n",
       "A data.frame: 1 × 1\n",
       "\n",
       "| n &lt;int&gt; |\n",
       "|---|\n",
       "| 80 |\n",
       "\n"
      ],
      "text/plain": [
       "  n \n",
       "1 80"
      ]
     },
     "metadata": {},
     "output_type": "display_data"
    }
   ],
   "source": [
    "count(input_data)"
   ]
  },
  {
   "cell_type": "code",
   "execution_count": 6,
   "id": "3919cbb9",
   "metadata": {},
   "outputs": [],
   "source": [
    "#Removing observations of participant's in their second category of competition\n",
    "input_data  <- input_data  %>% filter(!(Name == \"AnastasyaGorbenko\" & Category == \"Backstroke\"))\n",
    "input_data  <- input_data  %>% filter(!(Name == \"KatieShanahan\" & Category == \"Backstroke\"))\n",
    "input_data  <- input_data  %>% filter(!(Name == \"KristynaHorska\" & Category == \"Breaststroke\"))\n",
    "input_data  <- input_data  %>% filter(!(Name == \"LauraLahtinen\" & Category == \"Butterfly\"))\n",
    "input_data  <- input_data  %>% filter(!(Name == \"MireiaBelmonteGarcia\" & Category == \"Butterfly\"))\n",
    "input_data  <- input_data  %>% filter(!(Name == \"KatinkaHosszu\" & Category == \"Butterfly\"))\n",
    "input_data  <- input_data  %>% filter(!(Name == \"MarritSteenbergen\" & Category == \"Freestyle\"))"
   ]
  },
  {
   "cell_type": "code",
   "execution_count": 7,
   "id": "4165da9b",
   "metadata": {},
   "outputs": [
    {
     "data": {
      "text/html": [
       "<table class=\"dataframe\">\n",
       "<caption>A data.frame: 1 × 1</caption>\n",
       "<thead>\n",
       "\t<tr><th scope=col>n</th></tr>\n",
       "\t<tr><th scope=col>&lt;int&gt;</th></tr>\n",
       "</thead>\n",
       "<tbody>\n",
       "\t<tr><td>73</td></tr>\n",
       "</tbody>\n",
       "</table>\n"
      ],
      "text/latex": [
       "A data.frame: 1 × 1\n",
       "\\begin{tabular}{l}\n",
       " n\\\\\n",
       " <int>\\\\\n",
       "\\hline\n",
       "\t 73\\\\\n",
       "\\end{tabular}\n"
      ],
      "text/markdown": [
       "\n",
       "A data.frame: 1 × 1\n",
       "\n",
       "| n &lt;int&gt; |\n",
       "|---|\n",
       "| 73 |\n",
       "\n"
      ],
      "text/plain": [
       "  n \n",
       "1 73"
      ]
     },
     "metadata": {},
     "output_type": "display_data"
    }
   ],
   "source": [
    "count(input_data)"
   ]
  },
  {
   "cell_type": "code",
   "execution_count": 8,
   "id": "b7020f80",
   "metadata": {},
   "outputs": [
    {
     "data": {
      "text/html": [
       "<table class=\"dataframe\">\n",
       "<caption>A data.frame: 6 × 3</caption>\n",
       "<thead>\n",
       "\t<tr><th></th><th scope=col>Category</th><th scope=col>Name</th><th scope=col>Time</th></tr>\n",
       "\t<tr><th></th><th scope=col>&lt;chr&gt;</th><th scope=col>&lt;chr&gt;</th><th scope=col>&lt;dbl&gt;</th></tr>\n",
       "</thead>\n",
       "<tbody>\n",
       "\t<tr><th scope=row>1</th><td>Backstroke</td><td>SonneleOeztuerk      </td><td>133.97</td></tr>\n",
       "\t<tr><th scope=row>2</th><td>Backstroke</td><td>CamilaRodriguesRebelo</td><td>131.05</td></tr>\n",
       "\t<tr><th scope=row>3</th><td>Backstroke</td><td>DoraMolnar           </td><td>129.88</td></tr>\n",
       "\t<tr><th scope=row>4</th><td>Backstroke</td><td>CarmenWeilerSastre   </td><td>131.78</td></tr>\n",
       "\t<tr><th scope=row>5</th><td>Backstroke</td><td>LenaGrabowski        </td><td>130.78</td></tr>\n",
       "\t<tr><th scope=row>6</th><td>Backstroke</td><td>EmmaTerebo           </td><td>131.16</td></tr>\n",
       "</tbody>\n",
       "</table>\n"
      ],
      "text/latex": [
       "A data.frame: 6 × 3\n",
       "\\begin{tabular}{r|lll}\n",
       "  & Category & Name & Time\\\\\n",
       "  & <chr> & <chr> & <dbl>\\\\\n",
       "\\hline\n",
       "\t1 & Backstroke & SonneleOeztuerk       & 133.97\\\\\n",
       "\t2 & Backstroke & CamilaRodriguesRebelo & 131.05\\\\\n",
       "\t3 & Backstroke & DoraMolnar            & 129.88\\\\\n",
       "\t4 & Backstroke & CarmenWeilerSastre    & 131.78\\\\\n",
       "\t5 & Backstroke & LenaGrabowski         & 130.78\\\\\n",
       "\t6 & Backstroke & EmmaTerebo            & 131.16\\\\\n",
       "\\end{tabular}\n"
      ],
      "text/markdown": [
       "\n",
       "A data.frame: 6 × 3\n",
       "\n",
       "| <!--/--> | Category &lt;chr&gt; | Name &lt;chr&gt; | Time &lt;dbl&gt; |\n",
       "|---|---|---|---|\n",
       "| 1 | Backstroke | SonneleOeztuerk       | 133.97 |\n",
       "| 2 | Backstroke | CamilaRodriguesRebelo | 131.05 |\n",
       "| 3 | Backstroke | DoraMolnar            | 129.88 |\n",
       "| 4 | Backstroke | CarmenWeilerSastre    | 131.78 |\n",
       "| 5 | Backstroke | LenaGrabowski         | 130.78 |\n",
       "| 6 | Backstroke | EmmaTerebo            | 131.16 |\n",
       "\n"
      ],
      "text/plain": [
       "  Category   Name                  Time  \n",
       "1 Backstroke SonneleOeztuerk       133.97\n",
       "2 Backstroke CamilaRodriguesRebelo 131.05\n",
       "3 Backstroke DoraMolnar            129.88\n",
       "4 Backstroke CarmenWeilerSastre    131.78\n",
       "5 Backstroke LenaGrabowski         130.78\n",
       "6 Backstroke EmmaTerebo            131.16"
      ]
     },
     "metadata": {},
     "output_type": "display_data"
    }
   ],
   "source": [
    "#View the input data\n",
    "head(input_data)"
   ]
  },
  {
   "cell_type": "code",
   "execution_count": 9,
   "id": "6b362279",
   "metadata": {},
   "outputs": [
    {
     "data": {
      "text/html": [
       "<style>\n",
       ".list-inline {list-style: none; margin:0; padding: 0}\n",
       ".list-inline>li {display: inline-block}\n",
       ".list-inline>li:not(:last-child)::after {content: \"\\00b7\"; padding: 0 .5ex}\n",
       "</style>\n",
       "<ol class=list-inline><li>'Backstroke'</li><li>'Breaststroke'</li><li>'Butterfly'</li><li>'Freestyle'</li><li>'Medley'</li></ol>\n"
      ],
      "text/latex": [
       "\\begin{enumerate*}\n",
       "\\item 'Backstroke'\n",
       "\\item 'Breaststroke'\n",
       "\\item 'Butterfly'\n",
       "\\item 'Freestyle'\n",
       "\\item 'Medley'\n",
       "\\end{enumerate*}\n"
      ],
      "text/markdown": [
       "1. 'Backstroke'\n",
       "2. 'Breaststroke'\n",
       "3. 'Butterfly'\n",
       "4. 'Freestyle'\n",
       "5. 'Medley'\n",
       "\n",
       "\n"
      ],
      "text/plain": [
       "[1] \"Backstroke\"   \"Breaststroke\" \"Butterfly\"    \"Freestyle\"    \"Medley\"      "
      ]
     },
     "metadata": {},
     "output_type": "display_data"
    }
   ],
   "source": [
    "#Viewing the number of categories given in data\n",
    "unique(input_data$Category)"
   ]
  },
  {
   "cell_type": "code",
   "execution_count": 10,
   "id": "bf0d7bce",
   "metadata": {},
   "outputs": [],
   "source": [
    "#Ordering the data based on the cities\n",
    "input_data = input_data[order(input_data$Category),]"
   ]
  },
  {
   "cell_type": "code",
   "execution_count": 11,
   "id": "d71f306a",
   "metadata": {},
   "outputs": [
    {
     "data": {
      "text/plain": [
       "   Min. 1st Qu.  Median    Mean 3rd Qu.    Max. \n",
       "  117.7   129.2   132.5   132.6   135.7   148.4 "
      ]
     },
     "metadata": {},
     "output_type": "display_data"
    }
   ],
   "source": [
    "#Mean value for rental price per square meter in overall\n",
    "summary(input_data$Time)"
   ]
  },
  {
   "cell_type": "code",
   "execution_count": 12,
   "id": "633ce69e",
   "metadata": {},
   "outputs": [
    {
     "data": {
      "image/png": "[encoded data removed]",
      "text/plain": [
       "plot without title"
      ]
     },
     "metadata": {
      "image/png": {
       "height": 420,
       "width": 420
      }
     },
     "output_type": "display_data"
    }
   ],
   "source": [
    "#Histogram to see the frequency distribution of the variable time \n",
    "ggplot(input_data, aes(x=Time))+ \n",
    "  geom_histogram(color=\"black\",bins=30, alpha = 0.6)+\n",
    "  xlab(\"Time in seconds\") + ylab(\"Frequency\") + ggtitle('Finishing time frequency') +\n",
    "  theme(plot.title = element_text(face = \"bold\",hjust = 0.5, size = 12), axis.text=element_text(size=10),\n",
    "                     axis.title=element_text(size=12), legend.text = element_text(size = 12))"
   ]
  },
  {
   "cell_type": "code",
   "execution_count": 13,
   "id": "28d4c025",
   "metadata": {},
   "outputs": [
    {
     "data": {
      "text/html": [
       "8.966"
      ],
      "text/latex": [
       "8.966"
      ],
      "text/markdown": [
       "8.966"
      ],
      "text/plain": [
       "[1] 8.966"
      ]
     },
     "metadata": {},
     "output_type": "display_data"
    }
   ],
   "source": [
    "#Standard deviation\n",
    "round(sd(input_data$Time),3)"
   ]
  },
  {
   "cell_type": "code",
   "execution_count": 14,
   "id": "8e6e805c",
   "metadata": {},
   "outputs": [
    {
     "data": {
      "image/png": "[encoded data removed]",
      "text/plain": [
       "plot without title"
      ]
     },
     "metadata": {
      "image/png": {
       "height": 420,
       "width": 420
      }
     },
     "output_type": "display_data"
    }
   ],
   "source": [
    "#Histogram to see the frequency distribution of the variable sqmPrice \n",
    "ggplot(input_data, aes(x=Time, fill=Category))+ \n",
    "  geom_histogram(color=\"black\",bins=50, alpha = 0.6)+\n",
    "  xlab(\"Time in seconds\") + ylab(\"Frequency\") + ggtitle('Finishing time frequency') +\n",
    "  theme(plot.title = element_text(face = \"bold\",hjust = 0.5, size = 12), axis.text=element_text(size=10),\n",
    "                     axis.title=element_text(size=12), legend.text = element_text(size = 12))"
   ]
  },
  {
   "cell_type": "code",
   "execution_count": 15,
   "id": "215f5e24",
   "metadata": {},
   "outputs": [
    {
     "data": {
      "text/html": [
       "<table class=\"dataframe\">\n",
       "<caption>A tibble: 5 × 8</caption>\n",
       "<thead>\n",
       "\t<tr><th scope=col>Category</th><th scope=col>median</th><th scope=col>mean</th><th scope=col>sd</th><th scope=col>variance</th><th scope=col>minimum</th><th scope=col>maximum</th><th scope=col>IQR</th></tr>\n",
       "\t<tr><th scope=col>&lt;chr&gt;</th><th scope=col>&lt;chr&gt;</th><th scope=col>&lt;chr&gt;</th><th scope=col>&lt;dbl&gt;</th><th scope=col>&lt;dbl&gt;</th><th scope=col>&lt;dbl&gt;</th><th scope=col>&lt;dbl&gt;</th><th scope=col>&lt;dbl&gt;</th></tr>\n",
       "</thead>\n",
       "<tbody>\n",
       "\t<tr><td>Backstroke  </td><td>131.115</td><td>131.380</td><td>1.851145</td><td>3.426738</td><td>128.18</td><td>135.74</td><td>1.5175</td></tr>\n",
       "\t<tr><td>Breaststroke</td><td>146.680</td><td>146.400</td><td>1.490676</td><td>2.222114</td><td>143.73</td><td>148.40</td><td>2.1050</td></tr>\n",
       "\t<tr><td>Butterfly   </td><td>130.820</td><td>131.675</td><td>2.717344</td><td>7.383960</td><td>128.48</td><td>136.92</td><td>5.1000</td></tr>\n",
       "\t<tr><td>Freestyle   </td><td>119.500</td><td>119.358</td><td>1.558782</td><td>2.429803</td><td>117.70</td><td>122.42</td><td>2.2350</td></tr>\n",
       "\t<tr><td>Medley      </td><td>133.455</td><td>134.040</td><td>1.588752</td><td>2.524133</td><td>131.84</td><td>137.02</td><td>2.4750</td></tr>\n",
       "</tbody>\n",
       "</table>\n"
      ],
      "text/latex": [
       "A tibble: 5 × 8\n",
       "\\begin{tabular}{llllllll}\n",
       " Category & median & mean & sd & variance & minimum & maximum & IQR\\\\\n",
       " <chr> & <chr> & <chr> & <dbl> & <dbl> & <dbl> & <dbl> & <dbl>\\\\\n",
       "\\hline\n",
       "\t Backstroke   & 131.115 & 131.380 & 1.851145 & 3.426738 & 128.18 & 135.74 & 1.5175\\\\\n",
       "\t Breaststroke & 146.680 & 146.400 & 1.490676 & 2.222114 & 143.73 & 148.40 & 2.1050\\\\\n",
       "\t Butterfly    & 130.820 & 131.675 & 2.717344 & 7.383960 & 128.48 & 136.92 & 5.1000\\\\\n",
       "\t Freestyle    & 119.500 & 119.358 & 1.558782 & 2.429803 & 117.70 & 122.42 & 2.2350\\\\\n",
       "\t Medley       & 133.455 & 134.040 & 1.588752 & 2.524133 & 131.84 & 137.02 & 2.4750\\\\\n",
       "\\end{tabular}\n"
      ],
      "text/markdown": [
       "\n",
       "A tibble: 5 × 8\n",
       "\n",
       "| Category &lt;chr&gt; | median &lt;chr&gt; | mean &lt;chr&gt; | sd &lt;dbl&gt; | variance &lt;dbl&gt; | minimum &lt;dbl&gt; | maximum &lt;dbl&gt; | IQR &lt;dbl&gt; |\n",
       "|---|---|---|---|---|---|---|---|\n",
       "| Backstroke   | 131.115 | 131.380 | 1.851145 | 3.426738 | 128.18 | 135.74 | 1.5175 |\n",
       "| Breaststroke | 146.680 | 146.400 | 1.490676 | 2.222114 | 143.73 | 148.40 | 2.1050 |\n",
       "| Butterfly    | 130.820 | 131.675 | 2.717344 | 7.383960 | 128.48 | 136.92 | 5.1000 |\n",
       "| Freestyle    | 119.500 | 119.358 | 1.558782 | 2.429803 | 117.70 | 122.42 | 2.2350 |\n",
       "| Medley       | 133.455 | 134.040 | 1.588752 | 2.524133 | 131.84 | 137.02 | 2.4750 |\n",
       "\n"
      ],
      "text/plain": [
       "  Category     median  mean    sd       variance minimum maximum IQR   \n",
       "1 Backstroke   131.115 131.380 1.851145 3.426738 128.18  135.74  1.5175\n",
       "2 Breaststroke 146.680 146.400 1.490676 2.222114 143.73  148.40  2.1050\n",
       "3 Butterfly    130.820 131.675 2.717344 7.383960 128.48  136.92  5.1000\n",
       "4 Freestyle    119.500 119.358 1.558782 2.429803 117.70  122.42  2.2350\n",
       "5 Medley       133.455 134.040 1.588752 2.524133 131.84  137.02  2.4750"
      ]
     },
     "metadata": {},
     "output_type": "display_data"
    }
   ],
   "source": [
    "#Table that lists the various statistical measures calculated on the variable sqmPrice\n",
    "Analysistable <- group_by(input_data, Category) %>%\n",
    "                            summarise(median = sprintf(\"%0.3f\", median(Time, na.rm = TRUE)),\n",
    "                                    mean = sprintf(\"%0.3f\", mean(Time, na.rm = TRUE)),\n",
    "                                    sd = sd(Time, na.rm = TRUE),\n",
    "                                    variance = var(Time, na.rm = TRUE),\n",
    "                                    minimum = min(Time, na.rm = TRUE),\n",
    "                                    maximum = max(Time, na.rm = TRUE),\n",
    "                                    IQR = quantile(Time, 3/4) - quantile(Time, 1/4))\n",
    "Analysistable"
   ]
  },
  {
   "cell_type": "code",
   "execution_count": 16,
   "id": "85992c08",
   "metadata": {
    "scrolled": false
   },
   "outputs": [
    {
     "data": {
      "image/png": "[encoded data removed]",
      "text/plain": [
       "plot without title"
      ]
     },
     "metadata": {
      "image/png": {
       "height": 420,
       "width": 420
      }
     },
     "output_type": "display_data"
    }
   ],
   "source": [
    "#Box plot to compare the finishing time in the different categories to find the homogeneity in variance\n",
    "ggboxplot(input_data, x = \"Category\", y = \"Time\", color = \"black\", fill = \"Category\",\n",
    "            ylab = \"Time in seconds\", xlab = \"Category\") + ggtitle('Finishing times') +\n",
    "   theme(plot.title = element_text(face = \"bold\",hjust = 0.5, size = 12), axis.text=element_text(size=10),\n",
    "                     axis.title=element_text(size=12), legend.text = element_text(size = 12))"
   ]
  },
  {
   "cell_type": "code",
   "execution_count": 17,
   "id": "fe917b34",
   "metadata": {
    "scrolled": true
   },
   "outputs": [
    {
     "data": {
      "image/png": "[encoded data removed]",
      "text/plain": [
       "plot without title"
      ]
     },
     "metadata": {
      "image/png": {
       "height": 420,
       "width": 420
      }
     },
     "output_type": "display_data"
    },
    {
     "data": {
      "image/png": "[encoded data removed]",
      "text/plain": [
       "plot without title"
      ]
     },
     "metadata": {
      "image/png": {
       "height": 420,
       "width": 420
      }
     },
     "output_type": "display_data"
    },
    {
     "data": {
      "image/png": "[encoded data removed]",
      "text/plain": [
       "plot without title"
      ]
     },
     "metadata": {
      "image/png": {
       "height": 420,
       "width": 420
      }
     },
     "output_type": "display_data"
    },
    {
     "data": {
      "image/png": "[encoded data removed]",
      "text/plain": [
       "plot without title"
      ]
     },
     "metadata": {
      "image/png": {
       "height": 420,
       "width": 420
      }
     },
     "output_type": "display_data"
    },
    {
     "data": {
      "image/png": "[encoded data removed]",
      "text/plain": [
       "plot without title"
      ]
     },
     "metadata": {
      "image/png": {
       "height": 420,
       "width": 420
      }
     },
     "output_type": "display_data"
    }
   ],
   "source": [
    "##Q-Q plots to see normality of each category\n",
    "ggplot(input_data[input_data$Category == \"Backstroke\",], aes(sample = Time)) +\n",
    "  stat_qq(distribution = stats::qnorm) +\n",
    "  stat_qq_line() + xlab(\"Theoretical Quantiles\") + ylab(\"Sample Quantiles\") + \n",
    "  theme(plot.title = element_text(face = \"bold\",hjust = 0.5, size = 12), axis.text=element_text(size=10),\n",
    "                     axis.title=element_text(size=12), legend.text = element_text(size = 12))\n",
    "\n",
    "ggplot(input_data[input_data$Category == \"Breaststroke\",], aes(sample = Time)) +\n",
    "  stat_qq(distribution = stats::qnorm) +\n",
    "  stat_qq_line() + xlab(\"Theoretical Quantiles\") + ylab(\"Sample Quantiles\") + \n",
    "  theme(plot.title = element_text(face = \"bold\",hjust = 0.5, size = 12), axis.text=element_text(size=10),\n",
    "                     axis.title=element_text(size=12), legend.text = element_text(size = 12))\n",
    "\n",
    "ggplot(input_data[input_data$Category == \"Butterfly\",], aes(sample = Time)) +\n",
    "  stat_qq(distribution = stats::qnorm) +\n",
    "  stat_qq_line() + xlab(\"Theoretical Quantiles\") + ylab(\"Sample Quantiles\") + \n",
    "  theme(plot.title = element_text(face = \"bold\",hjust = 0.5, size = 12), axis.text=element_text(size=10),\n",
    "                     axis.title=element_text(size=12), legend.text = element_text(size = 12))\n",
    "\n",
    "ggplot(input_data[input_data$Category == \"Freestyle\",], aes(sample = Time)) +\n",
    "  stat_qq(distribution = stats::qnorm) +\n",
    "  stat_qq_line() + xlab(\"Theoretical Quantiles\") + ylab(\"Sample Quantiles\") + \n",
    "  theme(plot.title = element_text(face = \"bold\",hjust = 0.5, size = 12), axis.text=element_text(size=10),\n",
    "                     axis.title=element_text(size=12), legend.text = element_text(size = 12))\n",
    "ggplot(input_data[input_data$Category == \"Medley\",], aes(sample = Time)) +\n",
    "  stat_qq(distribution = stats::qnorm) +\n",
    "  stat_qq_line() + xlab(\"Theoretical Quantiles\") + ylab(\"Sample Quantiles\") + \n",
    "  theme(plot.title = element_text(face = \"bold\",hjust = 0.5, size = 12), axis.text=element_text(size=10),\n",
    "                     axis.title=element_text(size=12), legend.text = element_text(size = 12))"
   ]
  },
  {
   "cell_type": "code",
   "execution_count": 18,
   "id": "5ff4ba9b",
   "metadata": {},
   "outputs": [
    {
     "data": {
      "text/plain": [
       "            Df Sum Sq Mean Sq F value Pr(>F)    \n",
       "Category     4   5552  1388.0   399.7 <2e-16 ***\n",
       "Residuals   68    236     3.5                   \n",
       "---\n",
       "Signif. codes:  0 '***' 0.001 '**' 0.01 '*' 0.05 '.' 0.1 ' ' 1"
      ]
     },
     "metadata": {},
     "output_type": "display_data"
    }
   ],
   "source": [
    "# One-way ANOVA test for a global test\n",
    "one_way_anova <- aov(Time ~ Category, data = input_data)\n",
    "summary(one_way_anova)"
   ]
  },
  {
   "cell_type": "code",
   "execution_count": 19,
   "id": "bbb4ad9f",
   "metadata": {},
   "outputs": [],
   "source": [
    "#List of pairs made of the 5 Categories\n",
    "pair_category  <- c(\"Backstroke_Breaststroke\",\"Backstroke_Butterfly\",\"Backstroke_Freestyle\",\"Backstroke_Medley\",\n",
    "                   \"Breaststroke_Butterfly\",\"Breaststroke_Freestyle\",\"Breaststroke_Medley\",\"Butterfly_Freestyle\",\n",
    "                   \"Butterfly_Medley\",\"Freestyle_Medley\")"
   ]
  },
  {
   "cell_type": "code",
   "execution_count": 20,
   "id": "59e9601d",
   "metadata": {},
   "outputs": [],
   "source": [
    "#Filtering data for pairwise two sample t-test\n",
    "Backstroke_Breaststroke  <- input_data  %>% filter(Category %in% c(\"Backstroke\",\"Breaststroke\")) \n",
    "Backstroke_Butterfly  <- input_data  %>% filter(Category %in% c(\"Backstroke\",\"Butterfly\"))  \n",
    "Backstroke_Freestyle  <- input_data  %>% filter(Category %in% c(\"Backstroke\",\"Freestyle\"))  \n",
    "Backstroke_Medley  <- input_data  %>% filter(Category %in% c(\"Backstroke\",\"Medley\")) \n",
    "Breaststroke_Butterfly  <- input_data  %>% filter(Category %in% c(\"Breaststroke\",\"Butterfly\"))  \n",
    "Breaststroke_Freestyle  <- input_data  %>% filter(Category %in% c(\"Breaststroke\",\"Freestyle\"))  \n",
    "Breaststroke_Medley  <- input_data  %>% filter(Category %in% c(\"Breaststroke\",\"Medley\"))  \n",
    "Butterfly_Freestyle  <- input_data  %>% filter(Category %in% c(\"Butterfly\",\"Freestyle\"))  \n",
    "Butterfly_Medley  <- input_data  %>% filter(Category %in% c(\"Butterfly\",\"Medley\"))  \n",
    "Freestyle_Medley  <- input_data  %>% filter(Category %in% c(\"Freestyle\",\"Medley\"))  "
   ]
  },
  {
   "cell_type": "code",
   "execution_count": 21,
   "id": "632b95ba",
   "metadata": {},
   "outputs": [],
   "source": [
    "#t-tests\n",
    "test_1  <- t.test(Time ~ Category, data = Backstroke_Breaststroke, var.equal = TRUE)\n",
    "test_2  <- t.test(Time ~ Category, data = Backstroke_Butterfly, var.equal = TRUE)\n",
    "test_3  <- t.test(Time ~ Category, data = Backstroke_Freestyle, var.equal = TRUE)\n",
    "test_4  <- t.test(Time ~ Category, data = Backstroke_Medley, var.equal = TRUE)\n",
    "test_5  <- t.test(Time ~ Category, data = Breaststroke_Butterfly, var.equal = TRUE)\n",
    "test_6  <- t.test(Time ~ Category, data = Breaststroke_Freestyle, var.equal = TRUE)\n",
    "test_7  <- t.test(Time ~ Category, data = Breaststroke_Medley, var.equal = TRUE)\n",
    "test_8  <- t.test(Time ~ Category, data = Butterfly_Freestyle, var.equal = TRUE)\n",
    "test_9  <- t.test(Time ~ Category, data = Butterfly_Medley, var.equal = TRUE)\n",
    "test_10 <- t.test(Time ~ Category, data = Freestyle_Medley, var.equal = TRUE)"
   ]
  },
  {
   "cell_type": "code",
   "execution_count": 22,
   "id": "25391417",
   "metadata": {},
   "outputs": [],
   "source": [
    "#p-values from the t-tests\n",
    "p_values  <- c(test_1$p.value,test_2$p.value,test_3$p.value,test_4$p.value,test_5$p.value,\n",
    "              test_6$p.value,test_7$p.value,test_8$p.value,test_9$p.value,test_10$p.value)"
   ]
  },
  {
   "cell_type": "code",
   "execution_count": 23,
   "id": "651556ba",
   "metadata": {},
   "outputs": [],
   "source": [
    "#Adjusting methods, Bonferroni, Benjamini and hochberg\n",
    "p_values_bonferroni  <- p.adjust(p = p_values, method = \"bonferroni\", n = 10)\n",
    "p_values_holm  <- p.adjust(p = p_values, method = \"holm\", n = 10)"
   ]
  },
  {
   "cell_type": "code",
   "execution_count": 24,
   "id": "47c4e5e2",
   "metadata": {},
   "outputs": [],
   "source": [
    "#Tabulating the P-value\n",
    "df1 <- data.frame(data.frame(pair_category),data.frame(p_values))\n",
    "names(df1)[1] <- \"Categories pair\"\n",
    "names(df1)[2] <- \"p-values\"\n",
    "\n",
    "df1[\"Rejected\"] <- with(df1, ifelse(df1$`p-values` < 0.05, \"Yes\", \"No\"))\n",
    "\n",
    "#Tabulating the P-value before and after bonferroni adjust method\n",
    "df2 <- data.frame(data.frame(pair_category),data.frame(p_values_bonferroni))\n",
    "names(df2)[1] <- \"Categories pair\"\n",
    "names(df2)[2] <- \"Bon p-values\"\n",
    "\n",
    "df2[\"B_Rejected\"] <- with(df2, ifelse(df2$`Bon p-values` < 0.05, \"Yes\", \"No\"))\n",
    "\n",
    "#Tabulating the P-value before and after bonferroni adjust method\n",
    "df3 <- data.frame(data.frame(pair_category),data.frame(p_values_holm))\n",
    "names(df3)[1] <- \"Categories pair\"\n",
    "names(df3)[2] <- \"Hol p-values\"\n",
    "\n",
    "df3[\"H_Rejected\"] <- with(df3, ifelse(df3$`Hol p-values` < 0.05, \"Yes\", \"No\"))\n"
   ]
  },
  {
   "cell_type": "code",
   "execution_count": 25,
   "id": "b777068e",
   "metadata": {},
   "outputs": [
    {
     "data": {
      "text/html": [
       "<table class=\"dataframe\">\n",
       "<caption>A data.frame: 10 × 3</caption>\n",
       "<thead>\n",
       "\t<tr><th scope=col>Categories pair</th><th scope=col>p-values</th><th scope=col>Rejected</th></tr>\n",
       "\t<tr><th scope=col>&lt;chr&gt;</th><th scope=col>&lt;dbl&gt;</th><th scope=col>&lt;chr&gt;</th></tr>\n",
       "</thead>\n",
       "<tbody>\n",
       "\t<tr><td>Backstroke_Breaststroke</td><td>8.180062e-20</td><td>Yes</td></tr>\n",
       "\t<tr><td>Backstroke_Butterfly   </td><td>7.424315e-01</td><td>No </td></tr>\n",
       "\t<tr><td>Backstroke_Freestyle   </td><td>3.900106e-17</td><td>Yes</td></tr>\n",
       "\t<tr><td>Backstroke_Medley      </td><td>2.220449e-04</td><td>Yes</td></tr>\n",
       "\t<tr><td>Breaststroke_Butterfly </td><td>2.913045e-16</td><td>Yes</td></tr>\n",
       "\t<tr><td>Breaststroke_Freestyle </td><td>1.411879e-28</td><td>Yes</td></tr>\n",
       "\t<tr><td>Breaststroke_Medley    </td><td>8.422435e-20</td><td>Yes</td></tr>\n",
       "\t<tr><td>Butterfly_Freestyle    </td><td>2.710592e-14</td><td>Yes</td></tr>\n",
       "\t<tr><td>Butterfly_Medley       </td><td>6.882146e-03</td><td>Yes</td></tr>\n",
       "\t<tr><td>Freestyle_Medley       </td><td>1.275451e-21</td><td>Yes</td></tr>\n",
       "</tbody>\n",
       "</table>\n"
      ],
      "text/latex": [
       "A data.frame: 10 × 3\n",
       "\\begin{tabular}{lll}\n",
       " Categories pair & p-values & Rejected\\\\\n",
       " <chr> & <dbl> & <chr>\\\\\n",
       "\\hline\n",
       "\t Backstroke\\_Breaststroke & 8.180062e-20 & Yes\\\\\n",
       "\t Backstroke\\_Butterfly    & 7.424315e-01 & No \\\\\n",
       "\t Backstroke\\_Freestyle    & 3.900106e-17 & Yes\\\\\n",
       "\t Backstroke\\_Medley       & 2.220449e-04 & Yes\\\\\n",
       "\t Breaststroke\\_Butterfly  & 2.913045e-16 & Yes\\\\\n",
       "\t Breaststroke\\_Freestyle  & 1.411879e-28 & Yes\\\\\n",
       "\t Breaststroke\\_Medley     & 8.422435e-20 & Yes\\\\\n",
       "\t Butterfly\\_Freestyle     & 2.710592e-14 & Yes\\\\\n",
       "\t Butterfly\\_Medley        & 6.882146e-03 & Yes\\\\\n",
       "\t Freestyle\\_Medley        & 1.275451e-21 & Yes\\\\\n",
       "\\end{tabular}\n"
      ],
      "text/markdown": [
       "\n",
       "A data.frame: 10 × 3\n",
       "\n",
       "| Categories pair &lt;chr&gt; | p-values &lt;dbl&gt; | Rejected &lt;chr&gt; |\n",
       "|---|---|---|\n",
       "| Backstroke_Breaststroke | 8.180062e-20 | Yes |\n",
       "| Backstroke_Butterfly    | 7.424315e-01 | No  |\n",
       "| Backstroke_Freestyle    | 3.900106e-17 | Yes |\n",
       "| Backstroke_Medley       | 2.220449e-04 | Yes |\n",
       "| Breaststroke_Butterfly  | 2.913045e-16 | Yes |\n",
       "| Breaststroke_Freestyle  | 1.411879e-28 | Yes |\n",
       "| Breaststroke_Medley     | 8.422435e-20 | Yes |\n",
       "| Butterfly_Freestyle     | 2.710592e-14 | Yes |\n",
       "| Butterfly_Medley        | 6.882146e-03 | Yes |\n",
       "| Freestyle_Medley        | 1.275451e-21 | Yes |\n",
       "\n"
      ],
      "text/plain": [
       "   Categories pair         p-values     Rejected\n",
       "1  Backstroke_Breaststroke 8.180062e-20 Yes     \n",
       "2  Backstroke_Butterfly    7.424315e-01 No      \n",
       "3  Backstroke_Freestyle    3.900106e-17 Yes     \n",
       "4  Backstroke_Medley       2.220449e-04 Yes     \n",
       "5  Breaststroke_Butterfly  2.913045e-16 Yes     \n",
       "6  Breaststroke_Freestyle  1.411879e-28 Yes     \n",
       "7  Breaststroke_Medley     8.422435e-20 Yes     \n",
       "8  Butterfly_Freestyle     2.710592e-14 Yes     \n",
       "9  Butterfly_Medley        6.882146e-03 Yes     \n",
       "10 Freestyle_Medley        1.275451e-21 Yes     "
      ]
     },
     "metadata": {},
     "output_type": "display_data"
    }
   ],
   "source": [
    "#Test results without correcting multiple testing problem\n",
    "df1"
   ]
  },
  {
   "cell_type": "code",
   "execution_count": 27,
   "id": "60433aea",
   "metadata": {},
   "outputs": [
    {
     "data": {
      "text/html": [
       "<table class=\"dataframe\">\n",
       "<caption>A data.frame: 10 × 5</caption>\n",
       "<thead>\n",
       "\t<tr><th scope=col>Categories pair</th><th scope=col>Bon p-values</th><th scope=col>B_Rejected</th><th scope=col>Hol p-values</th><th scope=col>H_Rejected</th></tr>\n",
       "\t<tr><th scope=col>&lt;chr&gt;</th><th scope=col>&lt;dbl&gt;</th><th scope=col>&lt;chr&gt;</th><th scope=col>&lt;dbl&gt;</th><th scope=col>&lt;chr&gt;</th></tr>\n",
       "</thead>\n",
       "<tbody>\n",
       "\t<tr><td>Backstroke_Breaststroke</td><td>8.180062e-19</td><td>Yes</td><td>6.544050e-19</td><td>Yes</td></tr>\n",
       "\t<tr><td>Backstroke_Butterfly   </td><td>1.000000e+00</td><td>No </td><td>7.424315e-01</td><td>No </td></tr>\n",
       "\t<tr><td>Backstroke_Freestyle   </td><td>3.900106e-16</td><td>Yes</td><td>2.340064e-16</td><td>Yes</td></tr>\n",
       "\t<tr><td>Backstroke_Medley      </td><td>2.220449e-03</td><td>Yes</td><td>6.661346e-04</td><td>Yes</td></tr>\n",
       "\t<tr><td>Breaststroke_Butterfly </td><td>2.913045e-15</td><td>Yes</td><td>1.456523e-15</td><td>Yes</td></tr>\n",
       "\t<tr><td>Breaststroke_Freestyle </td><td>1.411879e-27</td><td>Yes</td><td>1.411879e-27</td><td>Yes</td></tr>\n",
       "\t<tr><td>Breaststroke_Medley    </td><td>8.422435e-19</td><td>Yes</td><td>6.544050e-19</td><td>Yes</td></tr>\n",
       "\t<tr><td>Butterfly_Freestyle    </td><td>2.710592e-13</td><td>Yes</td><td>1.084237e-13</td><td>Yes</td></tr>\n",
       "\t<tr><td>Butterfly_Medley       </td><td>6.882146e-02</td><td>No </td><td>1.376429e-02</td><td>Yes</td></tr>\n",
       "\t<tr><td>Freestyle_Medley       </td><td>1.275451e-20</td><td>Yes</td><td>1.147906e-20</td><td>Yes</td></tr>\n",
       "</tbody>\n",
       "</table>\n"
      ],
      "text/latex": [
       "A data.frame: 10 × 5\n",
       "\\begin{tabular}{lllll}\n",
       " Categories pair & Bon p-values & B\\_Rejected & Hol p-values & H\\_Rejected\\\\\n",
       " <chr> & <dbl> & <chr> & <dbl> & <chr>\\\\\n",
       "\\hline\n",
       "\t Backstroke\\_Breaststroke & 8.180062e-19 & Yes & 6.544050e-19 & Yes\\\\\n",
       "\t Backstroke\\_Butterfly    & 1.000000e+00 & No  & 7.424315e-01 & No \\\\\n",
       "\t Backstroke\\_Freestyle    & 3.900106e-16 & Yes & 2.340064e-16 & Yes\\\\\n",
       "\t Backstroke\\_Medley       & 2.220449e-03 & Yes & 6.661346e-04 & Yes\\\\\n",
       "\t Breaststroke\\_Butterfly  & 2.913045e-15 & Yes & 1.456523e-15 & Yes\\\\\n",
       "\t Breaststroke\\_Freestyle  & 1.411879e-27 & Yes & 1.411879e-27 & Yes\\\\\n",
       "\t Breaststroke\\_Medley     & 8.422435e-19 & Yes & 6.544050e-19 & Yes\\\\\n",
       "\t Butterfly\\_Freestyle     & 2.710592e-13 & Yes & 1.084237e-13 & Yes\\\\\n",
       "\t Butterfly\\_Medley        & 6.882146e-02 & No  & 1.376429e-02 & Yes\\\\\n",
       "\t Freestyle\\_Medley        & 1.275451e-20 & Yes & 1.147906e-20 & Yes\\\\\n",
       "\\end{tabular}\n"
      ],
      "text/markdown": [
       "\n",
       "A data.frame: 10 × 5\n",
       "\n",
       "| Categories pair &lt;chr&gt; | Bon p-values &lt;dbl&gt; | B_Rejected &lt;chr&gt; | Hol p-values &lt;dbl&gt; | H_Rejected &lt;chr&gt; |\n",
       "|---|---|---|---|---|\n",
       "| Backstroke_Breaststroke | 8.180062e-19 | Yes | 6.544050e-19 | Yes |\n",
       "| Backstroke_Butterfly    | 1.000000e+00 | No  | 7.424315e-01 | No  |\n",
       "| Backstroke_Freestyle    | 3.900106e-16 | Yes | 2.340064e-16 | Yes |\n",
       "| Backstroke_Medley       | 2.220449e-03 | Yes | 6.661346e-04 | Yes |\n",
       "| Breaststroke_Butterfly  | 2.913045e-15 | Yes | 1.456523e-15 | Yes |\n",
       "| Breaststroke_Freestyle  | 1.411879e-27 | Yes | 1.411879e-27 | Yes |\n",
       "| Breaststroke_Medley     | 8.422435e-19 | Yes | 6.544050e-19 | Yes |\n",
       "| Butterfly_Freestyle     | 2.710592e-13 | Yes | 1.084237e-13 | Yes |\n",
       "| Butterfly_Medley        | 6.882146e-02 | No  | 1.376429e-02 | Yes |\n",
       "| Freestyle_Medley        | 1.275451e-20 | Yes | 1.147906e-20 | Yes |\n",
       "\n"
      ],
      "text/plain": [
       "   Categories pair         Bon p-values B_Rejected Hol p-values H_Rejected\n",
       "1  Backstroke_Breaststroke 8.180062e-19 Yes        6.544050e-19 Yes       \n",
       "2  Backstroke_Butterfly    1.000000e+00 No         7.424315e-01 No        \n",
       "3  Backstroke_Freestyle    3.900106e-16 Yes        2.340064e-16 Yes       \n",
       "4  Backstroke_Medley       2.220449e-03 Yes        6.661346e-04 Yes       \n",
       "5  Breaststroke_Butterfly  2.913045e-15 Yes        1.456523e-15 Yes       \n",
       "6  Breaststroke_Freestyle  1.411879e-27 Yes        1.411879e-27 Yes       \n",
       "7  Breaststroke_Medley     8.422435e-19 Yes        6.544050e-19 Yes       \n",
       "8  Butterfly_Freestyle     2.710592e-13 Yes        1.084237e-13 Yes       \n",
       "9  Butterfly_Medley        6.882146e-02 No         1.376429e-02 Yes       \n",
       "10 Freestyle_Medley        1.275451e-20 Yes        1.147906e-20 Yes       "
      ]
     },
     "metadata": {},
     "output_type": "display_data"
    }
   ],
   "source": [
    "final_result <- merge(df2,df3,by = \"Categories pair\") \n",
    "final_result"
   ]
  },
  {
   "cell_type": "markdown",
   "id": "06cc1d57",
   "metadata": {},
   "source": []
  }
 ],
 "metadata": {
  "kernelspec": {
   "display_name": "R",
   "language": "R",
   "name": "ir"
  },
  "language_info": {
   "codemirror_mode": "r",
   "file_extension": ".r",
   "mimetype": "text/x-r-source",
   "name": "R",
   "pygments_lexer": "r",
   "version": "4.1.2"
  }
 },
 "nbformat": 4,
 "nbformat_minor": 5
}
